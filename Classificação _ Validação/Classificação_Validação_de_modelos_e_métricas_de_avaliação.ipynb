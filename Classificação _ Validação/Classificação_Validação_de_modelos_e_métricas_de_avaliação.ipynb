{
  "nbformat": 4,
  "nbformat_minor": 0,
  "metadata": {
    "colab": {
      "provenance": []
    },
    "kernelspec": {
      "name": "python3",
      "display_name": "Python 3"
    },
    "language_info": {
      "name": "python"
    }
  },
  "cells": [
    {
      "cell_type": "markdown",
      "source": [
        "#Criando um Modelo inicial"
      ],
      "metadata": {
        "id": "pASoxHNDIYxt"
      }
    },
    {
      "cell_type": "code",
      "execution_count": 1,
      "metadata": {
        "id": "ak_kLGvYIKA-"
      },
      "outputs": [],
      "source": [
        "import pandas as pd"
      ]
    },
    {
      "cell_type": "code",
      "source": [
        "dados = pd.read_csv('/content/emp_automovel.csv')"
      ],
      "metadata": {
        "id": "zZiHvh6JIYN9"
      },
      "execution_count": 2,
      "outputs": []
    },
    {
      "cell_type": "code",
      "source": [
        "dados.head()"
      ],
      "metadata": {
        "colab": {
          "base_uri": "https://localhost:8080/",
          "height": 226
        },
        "id": "d2znKVwJI3o7",
        "outputId": "847c8841-e142-447a-a744-03fe148c6bbf"
      },
      "execution_count": 3,
      "outputs": [
        {
          "output_type": "execute_result",
          "data": {
            "text/plain": [
              "   receita_cliente  anuidade_emprestimo  anos_casa_propria  telefone_trab  \\\n",
              "0          12600.0          3569.400000          12.157324              1   \n",
              "1           9000.0          2722.188351           7.000000              0   \n",
              "2          15750.0          4477.500000          12.000000              0   \n",
              "3           9000.0          1309.050000          12.157324              0   \n",
              "4           7650.0          1125.000000          12.157324              0   \n",
              "\n",
              "   avaliacao_cidade   score_1   score_2   score_3  score_social  \\\n",
              "0               2.0  0.057153  0.527227  0.513171      0.117428   \n",
              "1               2.0  0.657661  0.285898  0.614414      0.222700   \n",
              "2               2.0  0.501213  0.695423  0.513171      0.117428   \n",
              "3               3.0  0.501213  0.155973  0.513171      0.117428   \n",
              "4               2.0  0.294328  0.152076  0.513171      0.117428   \n",
              "\n",
              "   troca_telefone  inadimplente  \n",
              "0          2545.0             0  \n",
              "1           495.0             0  \n",
              "2          1212.0             0  \n",
              "3           515.0             0  \n",
              "4           162.0             0  "
            ],
            "text/html": [
              "\n",
              "  <div id=\"df-204a4fde-19d7-4ec4-96fb-444484f391f4\" class=\"colab-df-container\">\n",
              "    <div>\n",
              "<style scoped>\n",
              "    .dataframe tbody tr th:only-of-type {\n",
              "        vertical-align: middle;\n",
              "    }\n",
              "\n",
              "    .dataframe tbody tr th {\n",
              "        vertical-align: top;\n",
              "    }\n",
              "\n",
              "    .dataframe thead th {\n",
              "        text-align: right;\n",
              "    }\n",
              "</style>\n",
              "<table border=\"1\" class=\"dataframe\">\n",
              "  <thead>\n",
              "    <tr style=\"text-align: right;\">\n",
              "      <th></th>\n",
              "      <th>receita_cliente</th>\n",
              "      <th>anuidade_emprestimo</th>\n",
              "      <th>anos_casa_propria</th>\n",
              "      <th>telefone_trab</th>\n",
              "      <th>avaliacao_cidade</th>\n",
              "      <th>score_1</th>\n",
              "      <th>score_2</th>\n",
              "      <th>score_3</th>\n",
              "      <th>score_social</th>\n",
              "      <th>troca_telefone</th>\n",
              "      <th>inadimplente</th>\n",
              "    </tr>\n",
              "  </thead>\n",
              "  <tbody>\n",
              "    <tr>\n",
              "      <th>0</th>\n",
              "      <td>12600.0</td>\n",
              "      <td>3569.400000</td>\n",
              "      <td>12.157324</td>\n",
              "      <td>1</td>\n",
              "      <td>2.0</td>\n",
              "      <td>0.057153</td>\n",
              "      <td>0.527227</td>\n",
              "      <td>0.513171</td>\n",
              "      <td>0.117428</td>\n",
              "      <td>2545.0</td>\n",
              "      <td>0</td>\n",
              "    </tr>\n",
              "    <tr>\n",
              "      <th>1</th>\n",
              "      <td>9000.0</td>\n",
              "      <td>2722.188351</td>\n",
              "      <td>7.000000</td>\n",
              "      <td>0</td>\n",
              "      <td>2.0</td>\n",
              "      <td>0.657661</td>\n",
              "      <td>0.285898</td>\n",
              "      <td>0.614414</td>\n",
              "      <td>0.222700</td>\n",
              "      <td>495.0</td>\n",
              "      <td>0</td>\n",
              "    </tr>\n",
              "    <tr>\n",
              "      <th>2</th>\n",
              "      <td>15750.0</td>\n",
              "      <td>4477.500000</td>\n",
              "      <td>12.000000</td>\n",
              "      <td>0</td>\n",
              "      <td>2.0</td>\n",
              "      <td>0.501213</td>\n",
              "      <td>0.695423</td>\n",
              "      <td>0.513171</td>\n",
              "      <td>0.117428</td>\n",
              "      <td>1212.0</td>\n",
              "      <td>0</td>\n",
              "    </tr>\n",
              "    <tr>\n",
              "      <th>3</th>\n",
              "      <td>9000.0</td>\n",
              "      <td>1309.050000</td>\n",
              "      <td>12.157324</td>\n",
              "      <td>0</td>\n",
              "      <td>3.0</td>\n",
              "      <td>0.501213</td>\n",
              "      <td>0.155973</td>\n",
              "      <td>0.513171</td>\n",
              "      <td>0.117428</td>\n",
              "      <td>515.0</td>\n",
              "      <td>0</td>\n",
              "    </tr>\n",
              "    <tr>\n",
              "      <th>4</th>\n",
              "      <td>7650.0</td>\n",
              "      <td>1125.000000</td>\n",
              "      <td>12.157324</td>\n",
              "      <td>0</td>\n",
              "      <td>2.0</td>\n",
              "      <td>0.294328</td>\n",
              "      <td>0.152076</td>\n",
              "      <td>0.513171</td>\n",
              "      <td>0.117428</td>\n",
              "      <td>162.0</td>\n",
              "      <td>0</td>\n",
              "    </tr>\n",
              "  </tbody>\n",
              "</table>\n",
              "</div>\n",
              "    <div class=\"colab-df-buttons\">\n",
              "\n",
              "  <div class=\"colab-df-container\">\n",
              "    <button class=\"colab-df-convert\" onclick=\"convertToInteractive('df-204a4fde-19d7-4ec4-96fb-444484f391f4')\"\n",
              "            title=\"Convert this dataframe to an interactive table.\"\n",
              "            style=\"display:none;\">\n",
              "\n",
              "  <svg xmlns=\"http://www.w3.org/2000/svg\" height=\"24px\" viewBox=\"0 -960 960 960\">\n",
              "    <path d=\"M120-120v-720h720v720H120Zm60-500h600v-160H180v160Zm220 220h160v-160H400v160Zm0 220h160v-160H400v160ZM180-400h160v-160H180v160Zm440 0h160v-160H620v160ZM180-180h160v-160H180v160Zm440 0h160v-160H620v160Z\"/>\n",
              "  </svg>\n",
              "    </button>\n",
              "\n",
              "  <style>\n",
              "    .colab-df-container {\n",
              "      display:flex;\n",
              "      gap: 12px;\n",
              "    }\n",
              "\n",
              "    .colab-df-convert {\n",
              "      background-color: #E8F0FE;\n",
              "      border: none;\n",
              "      border-radius: 50%;\n",
              "      cursor: pointer;\n",
              "      display: none;\n",
              "      fill: #1967D2;\n",
              "      height: 32px;\n",
              "      padding: 0 0 0 0;\n",
              "      width: 32px;\n",
              "    }\n",
              "\n",
              "    .colab-df-convert:hover {\n",
              "      background-color: #E2EBFA;\n",
              "      box-shadow: 0px 1px 2px rgba(60, 64, 67, 0.3), 0px 1px 3px 1px rgba(60, 64, 67, 0.15);\n",
              "      fill: #174EA6;\n",
              "    }\n",
              "\n",
              "    .colab-df-buttons div {\n",
              "      margin-bottom: 4px;\n",
              "    }\n",
              "\n",
              "    [theme=dark] .colab-df-convert {\n",
              "      background-color: #3B4455;\n",
              "      fill: #D2E3FC;\n",
              "    }\n",
              "\n",
              "    [theme=dark] .colab-df-convert:hover {\n",
              "      background-color: #434B5C;\n",
              "      box-shadow: 0px 1px 3px 1px rgba(0, 0, 0, 0.15);\n",
              "      filter: drop-shadow(0px 1px 2px rgba(0, 0, 0, 0.3));\n",
              "      fill: #FFFFFF;\n",
              "    }\n",
              "  </style>\n",
              "\n",
              "    <script>\n",
              "      const buttonEl =\n",
              "        document.querySelector('#df-204a4fde-19d7-4ec4-96fb-444484f391f4 button.colab-df-convert');\n",
              "      buttonEl.style.display =\n",
              "        google.colab.kernel.accessAllowed ? 'block' : 'none';\n",
              "\n",
              "      async function convertToInteractive(key) {\n",
              "        const element = document.querySelector('#df-204a4fde-19d7-4ec4-96fb-444484f391f4');\n",
              "        const dataTable =\n",
              "          await google.colab.kernel.invokeFunction('convertToInteractive',\n",
              "                                                    [key], {});\n",
              "        if (!dataTable) return;\n",
              "\n",
              "        const docLinkHtml = 'Like what you see? Visit the ' +\n",
              "          '<a target=\"_blank\" href=https://colab.research.google.com/notebooks/data_table.ipynb>data table notebook</a>'\n",
              "          + ' to learn more about interactive tables.';\n",
              "        element.innerHTML = '';\n",
              "        dataTable['output_type'] = 'display_data';\n",
              "        await google.colab.output.renderOutput(dataTable, element);\n",
              "        const docLink = document.createElement('div');\n",
              "        docLink.innerHTML = docLinkHtml;\n",
              "        element.appendChild(docLink);\n",
              "      }\n",
              "    </script>\n",
              "  </div>\n",
              "\n",
              "\n",
              "    <div id=\"df-bcfef3c3-0f03-4f72-9c8f-f26d5380a491\">\n",
              "      <button class=\"colab-df-quickchart\" onclick=\"quickchart('df-bcfef3c3-0f03-4f72-9c8f-f26d5380a491')\"\n",
              "                title=\"Suggest charts\"\n",
              "                style=\"display:none;\">\n",
              "\n",
              "<svg xmlns=\"http://www.w3.org/2000/svg\" height=\"24px\"viewBox=\"0 0 24 24\"\n",
              "     width=\"24px\">\n",
              "    <g>\n",
              "        <path d=\"M19 3H5c-1.1 0-2 .9-2 2v14c0 1.1.9 2 2 2h14c1.1 0 2-.9 2-2V5c0-1.1-.9-2-2-2zM9 17H7v-7h2v7zm4 0h-2V7h2v10zm4 0h-2v-4h2v4z\"/>\n",
              "    </g>\n",
              "</svg>\n",
              "      </button>\n",
              "\n",
              "<style>\n",
              "  .colab-df-quickchart {\n",
              "      --bg-color: #E8F0FE;\n",
              "      --fill-color: #1967D2;\n",
              "      --hover-bg-color: #E2EBFA;\n",
              "      --hover-fill-color: #174EA6;\n",
              "      --disabled-fill-color: #AAA;\n",
              "      --disabled-bg-color: #DDD;\n",
              "  }\n",
              "\n",
              "  [theme=dark] .colab-df-quickchart {\n",
              "      --bg-color: #3B4455;\n",
              "      --fill-color: #D2E3FC;\n",
              "      --hover-bg-color: #434B5C;\n",
              "      --hover-fill-color: #FFFFFF;\n",
              "      --disabled-bg-color: #3B4455;\n",
              "      --disabled-fill-color: #666;\n",
              "  }\n",
              "\n",
              "  .colab-df-quickchart {\n",
              "    background-color: var(--bg-color);\n",
              "    border: none;\n",
              "    border-radius: 50%;\n",
              "    cursor: pointer;\n",
              "    display: none;\n",
              "    fill: var(--fill-color);\n",
              "    height: 32px;\n",
              "    padding: 0;\n",
              "    width: 32px;\n",
              "  }\n",
              "\n",
              "  .colab-df-quickchart:hover {\n",
              "    background-color: var(--hover-bg-color);\n",
              "    box-shadow: 0 1px 2px rgba(60, 64, 67, 0.3), 0 1px 3px 1px rgba(60, 64, 67, 0.15);\n",
              "    fill: var(--button-hover-fill-color);\n",
              "  }\n",
              "\n",
              "  .colab-df-quickchart-complete:disabled,\n",
              "  .colab-df-quickchart-complete:disabled:hover {\n",
              "    background-color: var(--disabled-bg-color);\n",
              "    fill: var(--disabled-fill-color);\n",
              "    box-shadow: none;\n",
              "  }\n",
              "\n",
              "  .colab-df-spinner {\n",
              "    border: 2px solid var(--fill-color);\n",
              "    border-color: transparent;\n",
              "    border-bottom-color: var(--fill-color);\n",
              "    animation:\n",
              "      spin 1s steps(1) infinite;\n",
              "  }\n",
              "\n",
              "  @keyframes spin {\n",
              "    0% {\n",
              "      border-color: transparent;\n",
              "      border-bottom-color: var(--fill-color);\n",
              "      border-left-color: var(--fill-color);\n",
              "    }\n",
              "    20% {\n",
              "      border-color: transparent;\n",
              "      border-left-color: var(--fill-color);\n",
              "      border-top-color: var(--fill-color);\n",
              "    }\n",
              "    30% {\n",
              "      border-color: transparent;\n",
              "      border-left-color: var(--fill-color);\n",
              "      border-top-color: var(--fill-color);\n",
              "      border-right-color: var(--fill-color);\n",
              "    }\n",
              "    40% {\n",
              "      border-color: transparent;\n",
              "      border-right-color: var(--fill-color);\n",
              "      border-top-color: var(--fill-color);\n",
              "    }\n",
              "    60% {\n",
              "      border-color: transparent;\n",
              "      border-right-color: var(--fill-color);\n",
              "    }\n",
              "    80% {\n",
              "      border-color: transparent;\n",
              "      border-right-color: var(--fill-color);\n",
              "      border-bottom-color: var(--fill-color);\n",
              "    }\n",
              "    90% {\n",
              "      border-color: transparent;\n",
              "      border-bottom-color: var(--fill-color);\n",
              "    }\n",
              "  }\n",
              "</style>\n",
              "\n",
              "      <script>\n",
              "        async function quickchart(key) {\n",
              "          const quickchartButtonEl =\n",
              "            document.querySelector('#' + key + ' button');\n",
              "          quickchartButtonEl.disabled = true;  // To prevent multiple clicks.\n",
              "          quickchartButtonEl.classList.add('colab-df-spinner');\n",
              "          try {\n",
              "            const charts = await google.colab.kernel.invokeFunction(\n",
              "                'suggestCharts', [key], {});\n",
              "          } catch (error) {\n",
              "            console.error('Error during call to suggestCharts:', error);\n",
              "          }\n",
              "          quickchartButtonEl.classList.remove('colab-df-spinner');\n",
              "          quickchartButtonEl.classList.add('colab-df-quickchart-complete');\n",
              "        }\n",
              "        (() => {\n",
              "          let quickchartButtonEl =\n",
              "            document.querySelector('#df-bcfef3c3-0f03-4f72-9c8f-f26d5380a491 button');\n",
              "          quickchartButtonEl.style.display =\n",
              "            google.colab.kernel.accessAllowed ? 'block' : 'none';\n",
              "        })();\n",
              "      </script>\n",
              "    </div>\n",
              "\n",
              "    </div>\n",
              "  </div>\n"
            ],
            "application/vnd.google.colaboratory.intrinsic+json": {
              "type": "dataframe",
              "variable_name": "dados",
              "summary": "{\n  \"name\": \"dados\",\n  \"rows\": 54025,\n  \"fields\": [\n    {\n      \"column\": \"receita_cliente\",\n      \"properties\": {\n        \"dtype\": \"number\",\n        \"std\": 9658.762569130264,\n        \"min\": 2700.0,\n        \"max\": 450000.0,\n        \"num_unique_values\": 663,\n        \"samples\": [\n          11018.7,\n          38520.0,\n          17796.6\n        ],\n        \"semantic_type\": \"\",\n        \"description\": \"\"\n      }\n    },\n    {\n      \"column\": \"anuidade_emprestimo\",\n      \"properties\": {\n        \"dtype\": \"number\",\n        \"std\": 1305.3647344874787,\n        \"min\": 218.7,\n        \"max\": 22500.0,\n        \"num_unique_values\": 8004,\n        \"samples\": [\n          5339.7,\n          5067.0,\n          5757.3\n        ],\n        \"semantic_type\": \"\",\n        \"description\": \"\"\n      }\n    },\n    {\n      \"column\": \"anos_casa_propria\",\n      \"properties\": {\n        \"dtype\": \"number\",\n        \"std\": 7.452120104984191,\n        \"min\": 0.0,\n        \"max\": 69.0,\n        \"num_unique_values\": 53,\n        \"samples\": [\n          11.0,\n          31.0,\n          32.0\n        ],\n        \"semantic_type\": \"\",\n        \"description\": \"\"\n      }\n    },\n    {\n      \"column\": \"telefone_trab\",\n      \"properties\": {\n        \"dtype\": \"number\",\n        \"std\": 0,\n        \"min\": 0,\n        \"max\": 1,\n        \"num_unique_values\": 2,\n        \"samples\": [\n          0,\n          1\n        ],\n        \"semantic_type\": \"\",\n        \"description\": \"\"\n      }\n    },\n    {\n      \"column\": \"avaliacao_cidade\",\n      \"properties\": {\n        \"dtype\": \"number\",\n        \"std\": 0.49880682251877845,\n        \"min\": 1.0,\n        \"max\": 3.0,\n        \"num_unique_values\": 4,\n        \"samples\": [\n          3.0,\n          2.030038427084816\n        ],\n        \"semantic_type\": \"\",\n        \"description\": \"\"\n      }\n    },\n    {\n      \"column\": \"score_1\",\n      \"properties\": {\n        \"dtype\": \"number\",\n        \"std\": 0.14238945649917853,\n        \"min\": 0.014568132,\n        \"max\": 0.942680454,\n        \"num_unique_values\": 23062,\n        \"samples\": [\n          0.475611877,\n          0.435226091\n        ],\n        \"semantic_type\": \"\",\n        \"description\": \"\"\n      }\n    },\n    {\n      \"column\": \"score_2\",\n      \"properties\": {\n        \"dtype\": \"number\",\n        \"std\": 0.8759454878096079,\n        \"min\": 5e-06,\n        \"max\": 100.0,\n        \"num_unique_values\": 38047,\n        \"samples\": [\n          0.416306086,\n          0.675062411\n        ],\n        \"semantic_type\": \"\",\n        \"description\": \"\"\n      }\n    },\n    {\n      \"column\": \"score_3\",\n      \"properties\": {\n        \"dtype\": \"number\",\n        \"std\": 0.06272486372343226,\n        \"min\": 0.000527265,\n        \"max\": 0.869210801,\n        \"num_unique_values\": 612,\n        \"samples\": [\n          0.420610964,\n          0.168416171\n        ],\n        \"semantic_type\": \"\",\n        \"description\": \"\"\n      }\n    },\n    {\n      \"column\": \"score_social\",\n      \"properties\": {\n        \"dtype\": \"number\",\n        \"std\": 0.0761796573204536,\n        \"min\": 0.0,\n        \"max\": 1.0,\n        \"num_unique_values\": 1459,\n        \"samples\": [\n          0.1674,\n          0.6381\n        ],\n        \"semantic_type\": \"\",\n        \"description\": \"\"\n      }\n    },\n    {\n      \"column\": \"troca_telefone\",\n      \"properties\": {\n        \"dtype\": \"number\",\n        \"std\": 818.1417090553241,\n        \"min\": 0.0,\n        \"max\": 4185.0,\n        \"num_unique_values\": 3408,\n        \"samples\": [\n          966.0,\n          3099.0\n        ],\n        \"semantic_type\": \"\",\n        \"description\": \"\"\n      }\n    },\n    {\n      \"column\": \"inadimplente\",\n      \"properties\": {\n        \"dtype\": \"number\",\n        \"std\": 0,\n        \"min\": 0,\n        \"max\": 1,\n        \"num_unique_values\": 2,\n        \"samples\": [\n          1,\n          0\n        ],\n        \"semantic_type\": \"\",\n        \"description\": \"\"\n      }\n    }\n  ]\n}"
            }
          },
          "metadata": {},
          "execution_count": 3
        }
      ]
    },
    {
      "cell_type": "code",
      "source": [
        "dados['inadimplente']"
      ],
      "metadata": {
        "colab": {
          "base_uri": "https://localhost:8080/",
          "height": 458
        },
        "id": "Di2BEREjI6OM",
        "outputId": "4e3ee3ec-e1b4-4c18-8f5a-fec687de68b7"
      },
      "execution_count": 4,
      "outputs": [
        {
          "output_type": "execute_result",
          "data": {
            "text/plain": [
              "0        0\n",
              "1        0\n",
              "2        0\n",
              "3        0\n",
              "4        0\n",
              "        ..\n",
              "54020    1\n",
              "54021    1\n",
              "54022    1\n",
              "54023    1\n",
              "54024    1\n",
              "Name: inadimplente, Length: 54025, dtype: int64"
            ],
            "text/html": [
              "<div>\n",
              "<style scoped>\n",
              "    .dataframe tbody tr th:only-of-type {\n",
              "        vertical-align: middle;\n",
              "    }\n",
              "\n",
              "    .dataframe tbody tr th {\n",
              "        vertical-align: top;\n",
              "    }\n",
              "\n",
              "    .dataframe thead th {\n",
              "        text-align: right;\n",
              "    }\n",
              "</style>\n",
              "<table border=\"1\" class=\"dataframe\">\n",
              "  <thead>\n",
              "    <tr style=\"text-align: right;\">\n",
              "      <th></th>\n",
              "      <th>inadimplente</th>\n",
              "    </tr>\n",
              "  </thead>\n",
              "  <tbody>\n",
              "    <tr>\n",
              "      <th>0</th>\n",
              "      <td>0</td>\n",
              "    </tr>\n",
              "    <tr>\n",
              "      <th>1</th>\n",
              "      <td>0</td>\n",
              "    </tr>\n",
              "    <tr>\n",
              "      <th>2</th>\n",
              "      <td>0</td>\n",
              "    </tr>\n",
              "    <tr>\n",
              "      <th>3</th>\n",
              "      <td>0</td>\n",
              "    </tr>\n",
              "    <tr>\n",
              "      <th>4</th>\n",
              "      <td>0</td>\n",
              "    </tr>\n",
              "    <tr>\n",
              "      <th>...</th>\n",
              "      <td>...</td>\n",
              "    </tr>\n",
              "    <tr>\n",
              "      <th>54020</th>\n",
              "      <td>1</td>\n",
              "    </tr>\n",
              "    <tr>\n",
              "      <th>54021</th>\n",
              "      <td>1</td>\n",
              "    </tr>\n",
              "    <tr>\n",
              "      <th>54022</th>\n",
              "      <td>1</td>\n",
              "    </tr>\n",
              "    <tr>\n",
              "      <th>54023</th>\n",
              "      <td>1</td>\n",
              "    </tr>\n",
              "    <tr>\n",
              "      <th>54024</th>\n",
              "      <td>1</td>\n",
              "    </tr>\n",
              "  </tbody>\n",
              "</table>\n",
              "<p>54025 rows × 1 columns</p>\n",
              "</div><br><label><b>dtype:</b> int64</label>"
            ]
          },
          "metadata": {},
          "execution_count": 4
        }
      ]
    },
    {
      "cell_type": "code",
      "source": [
        "dados.info()"
      ],
      "metadata": {
        "colab": {
          "base_uri": "https://localhost:8080/"
        },
        "id": "ZHki8ZpBJAS0",
        "outputId": "62323b39-5f6a-48e1-b043-164ab591ef52"
      },
      "execution_count": 5,
      "outputs": [
        {
          "output_type": "stream",
          "name": "stdout",
          "text": [
            "<class 'pandas.core.frame.DataFrame'>\n",
            "RangeIndex: 54025 entries, 0 to 54024\n",
            "Data columns (total 11 columns):\n",
            " #   Column               Non-Null Count  Dtype  \n",
            "---  ------               --------------  -----  \n",
            " 0   receita_cliente      54025 non-null  float64\n",
            " 1   anuidade_emprestimo  54025 non-null  float64\n",
            " 2   anos_casa_propria    54025 non-null  float64\n",
            " 3   telefone_trab        54025 non-null  int64  \n",
            " 4   avaliacao_cidade     54025 non-null  float64\n",
            " 5   score_1              54025 non-null  float64\n",
            " 6   score_2              54025 non-null  float64\n",
            " 7   score_3              54025 non-null  float64\n",
            " 8   score_social         54025 non-null  float64\n",
            " 9   troca_telefone       54025 non-null  float64\n",
            " 10  inadimplente         54025 non-null  int64  \n",
            "dtypes: float64(9), int64(2)\n",
            "memory usage: 4.5 MB\n"
          ]
        }
      ]
    },
    {
      "cell_type": "code",
      "source": [
        "#A base de dados já está totalmente tratada"
      ],
      "metadata": {
        "id": "NOaJNxuGJC-D"
      },
      "execution_count": null,
      "outputs": []
    },
    {
      "cell_type": "code",
      "source": [
        "x = dados.drop('inadimplente', axis = 1)\n",
        "y = dados['inadimplente']"
      ],
      "metadata": {
        "id": "4G_GYoHpJJhL"
      },
      "execution_count": 6,
      "outputs": []
    },
    {
      "cell_type": "code",
      "source": [
        "x"
      ],
      "metadata": {
        "colab": {
          "base_uri": "https://localhost:8080/",
          "height": 444
        },
        "id": "3cO0PS8KJR-r",
        "outputId": "2bba1d2b-9a87-4b78-96e4-fd7466c5474e"
      },
      "execution_count": 7,
      "outputs": [
        {
          "output_type": "execute_result",
          "data": {
            "text/plain": [
              "       receita_cliente  anuidade_emprestimo  anos_casa_propria  telefone_trab  \\\n",
              "0         12600.000000          3569.400000          12.157324              1   \n",
              "1          9000.000000          2722.188351           7.000000              0   \n",
              "2         15750.000000          4477.500000          12.000000              0   \n",
              "3          9000.000000          1309.050000          12.157324              0   \n",
              "4          7650.000000          1125.000000          12.157324              0   \n",
              "...                ...                  ...                ...            ...   \n",
              "54020     16855.246324           675.000000          12.157324              1   \n",
              "54021     11250.000000           675.000000          14.000000              0   \n",
              "54022     13500.000000           900.000000          64.000000              0   \n",
              "54023     11250.000000          2371.500000          12.157324              0   \n",
              "54024     21060.000000          2459.250000          12.157324              0   \n",
              "\n",
              "       avaliacao_cidade   score_1   score_2   score_3  score_social  \\\n",
              "0                   2.0  0.057153  0.527227  0.513171      0.117428   \n",
              "1                   2.0  0.657661  0.285898  0.614414      0.222700   \n",
              "2                   2.0  0.501213  0.695423  0.513171      0.117428   \n",
              "3                   3.0  0.501213  0.155973  0.513171      0.117428   \n",
              "4                   2.0  0.294328  0.152076  0.513171      0.117428   \n",
              "...                 ...       ...       ...       ...           ...   \n",
              "54020               2.0  0.501213  0.180635  0.513171      0.082500   \n",
              "54021               3.0  0.409620  0.606002  0.513171      0.117428   \n",
              "54022               2.0  0.162632  0.525412  0.513171      0.117428   \n",
              "54023               3.0  0.501213  0.664027  0.513171      0.117428   \n",
              "54024               2.0  0.339656  0.656468  0.513171      0.117428   \n",
              "\n",
              "       troca_telefone  \n",
              "0         2545.000000  \n",
              "1          495.000000  \n",
              "2         1212.000000  \n",
              "3          515.000000  \n",
              "4          162.000000  \n",
              "...               ...  \n",
              "54020        0.000000  \n",
              "54021      466.000000  \n",
              "54022      962.106056  \n",
              "54023      482.000000  \n",
              "54024        0.000000  \n",
              "\n",
              "[54025 rows x 10 columns]"
            ],
            "text/html": [
              "\n",
              "  <div id=\"df-28c764cc-175e-4661-8485-228dc37ea4ce\" class=\"colab-df-container\">\n",
              "    <div>\n",
              "<style scoped>\n",
              "    .dataframe tbody tr th:only-of-type {\n",
              "        vertical-align: middle;\n",
              "    }\n",
              "\n",
              "    .dataframe tbody tr th {\n",
              "        vertical-align: top;\n",
              "    }\n",
              "\n",
              "    .dataframe thead th {\n",
              "        text-align: right;\n",
              "    }\n",
              "</style>\n",
              "<table border=\"1\" class=\"dataframe\">\n",
              "  <thead>\n",
              "    <tr style=\"text-align: right;\">\n",
              "      <th></th>\n",
              "      <th>receita_cliente</th>\n",
              "      <th>anuidade_emprestimo</th>\n",
              "      <th>anos_casa_propria</th>\n",
              "      <th>telefone_trab</th>\n",
              "      <th>avaliacao_cidade</th>\n",
              "      <th>score_1</th>\n",
              "      <th>score_2</th>\n",
              "      <th>score_3</th>\n",
              "      <th>score_social</th>\n",
              "      <th>troca_telefone</th>\n",
              "    </tr>\n",
              "  </thead>\n",
              "  <tbody>\n",
              "    <tr>\n",
              "      <th>0</th>\n",
              "      <td>12600.000000</td>\n",
              "      <td>3569.400000</td>\n",
              "      <td>12.157324</td>\n",
              "      <td>1</td>\n",
              "      <td>2.0</td>\n",
              "      <td>0.057153</td>\n",
              "      <td>0.527227</td>\n",
              "      <td>0.513171</td>\n",
              "      <td>0.117428</td>\n",
              "      <td>2545.000000</td>\n",
              "    </tr>\n",
              "    <tr>\n",
              "      <th>1</th>\n",
              "      <td>9000.000000</td>\n",
              "      <td>2722.188351</td>\n",
              "      <td>7.000000</td>\n",
              "      <td>0</td>\n",
              "      <td>2.0</td>\n",
              "      <td>0.657661</td>\n",
              "      <td>0.285898</td>\n",
              "      <td>0.614414</td>\n",
              "      <td>0.222700</td>\n",
              "      <td>495.000000</td>\n",
              "    </tr>\n",
              "    <tr>\n",
              "      <th>2</th>\n",
              "      <td>15750.000000</td>\n",
              "      <td>4477.500000</td>\n",
              "      <td>12.000000</td>\n",
              "      <td>0</td>\n",
              "      <td>2.0</td>\n",
              "      <td>0.501213</td>\n",
              "      <td>0.695423</td>\n",
              "      <td>0.513171</td>\n",
              "      <td>0.117428</td>\n",
              "      <td>1212.000000</td>\n",
              "    </tr>\n",
              "    <tr>\n",
              "      <th>3</th>\n",
              "      <td>9000.000000</td>\n",
              "      <td>1309.050000</td>\n",
              "      <td>12.157324</td>\n",
              "      <td>0</td>\n",
              "      <td>3.0</td>\n",
              "      <td>0.501213</td>\n",
              "      <td>0.155973</td>\n",
              "      <td>0.513171</td>\n",
              "      <td>0.117428</td>\n",
              "      <td>515.000000</td>\n",
              "    </tr>\n",
              "    <tr>\n",
              "      <th>4</th>\n",
              "      <td>7650.000000</td>\n",
              "      <td>1125.000000</td>\n",
              "      <td>12.157324</td>\n",
              "      <td>0</td>\n",
              "      <td>2.0</td>\n",
              "      <td>0.294328</td>\n",
              "      <td>0.152076</td>\n",
              "      <td>0.513171</td>\n",
              "      <td>0.117428</td>\n",
              "      <td>162.000000</td>\n",
              "    </tr>\n",
              "    <tr>\n",
              "      <th>...</th>\n",
              "      <td>...</td>\n",
              "      <td>...</td>\n",
              "      <td>...</td>\n",
              "      <td>...</td>\n",
              "      <td>...</td>\n",
              "      <td>...</td>\n",
              "      <td>...</td>\n",
              "      <td>...</td>\n",
              "      <td>...</td>\n",
              "      <td>...</td>\n",
              "    </tr>\n",
              "    <tr>\n",
              "      <th>54020</th>\n",
              "      <td>16855.246324</td>\n",
              "      <td>675.000000</td>\n",
              "      <td>12.157324</td>\n",
              "      <td>1</td>\n",
              "      <td>2.0</td>\n",
              "      <td>0.501213</td>\n",
              "      <td>0.180635</td>\n",
              "      <td>0.513171</td>\n",
              "      <td>0.082500</td>\n",
              "      <td>0.000000</td>\n",
              "    </tr>\n",
              "    <tr>\n",
              "      <th>54021</th>\n",
              "      <td>11250.000000</td>\n",
              "      <td>675.000000</td>\n",
              "      <td>14.000000</td>\n",
              "      <td>0</td>\n",
              "      <td>3.0</td>\n",
              "      <td>0.409620</td>\n",
              "      <td>0.606002</td>\n",
              "      <td>0.513171</td>\n",
              "      <td>0.117428</td>\n",
              "      <td>466.000000</td>\n",
              "    </tr>\n",
              "    <tr>\n",
              "      <th>54022</th>\n",
              "      <td>13500.000000</td>\n",
              "      <td>900.000000</td>\n",
              "      <td>64.000000</td>\n",
              "      <td>0</td>\n",
              "      <td>2.0</td>\n",
              "      <td>0.162632</td>\n",
              "      <td>0.525412</td>\n",
              "      <td>0.513171</td>\n",
              "      <td>0.117428</td>\n",
              "      <td>962.106056</td>\n",
              "    </tr>\n",
              "    <tr>\n",
              "      <th>54023</th>\n",
              "      <td>11250.000000</td>\n",
              "      <td>2371.500000</td>\n",
              "      <td>12.157324</td>\n",
              "      <td>0</td>\n",
              "      <td>3.0</td>\n",
              "      <td>0.501213</td>\n",
              "      <td>0.664027</td>\n",
              "      <td>0.513171</td>\n",
              "      <td>0.117428</td>\n",
              "      <td>482.000000</td>\n",
              "    </tr>\n",
              "    <tr>\n",
              "      <th>54024</th>\n",
              "      <td>21060.000000</td>\n",
              "      <td>2459.250000</td>\n",
              "      <td>12.157324</td>\n",
              "      <td>0</td>\n",
              "      <td>2.0</td>\n",
              "      <td>0.339656</td>\n",
              "      <td>0.656468</td>\n",
              "      <td>0.513171</td>\n",
              "      <td>0.117428</td>\n",
              "      <td>0.000000</td>\n",
              "    </tr>\n",
              "  </tbody>\n",
              "</table>\n",
              "<p>54025 rows × 10 columns</p>\n",
              "</div>\n",
              "    <div class=\"colab-df-buttons\">\n",
              "\n",
              "  <div class=\"colab-df-container\">\n",
              "    <button class=\"colab-df-convert\" onclick=\"convertToInteractive('df-28c764cc-175e-4661-8485-228dc37ea4ce')\"\n",
              "            title=\"Convert this dataframe to an interactive table.\"\n",
              "            style=\"display:none;\">\n",
              "\n",
              "  <svg xmlns=\"http://www.w3.org/2000/svg\" height=\"24px\" viewBox=\"0 -960 960 960\">\n",
              "    <path d=\"M120-120v-720h720v720H120Zm60-500h600v-160H180v160Zm220 220h160v-160H400v160Zm0 220h160v-160H400v160ZM180-400h160v-160H180v160Zm440 0h160v-160H620v160ZM180-180h160v-160H180v160Zm440 0h160v-160H620v160Z\"/>\n",
              "  </svg>\n",
              "    </button>\n",
              "\n",
              "  <style>\n",
              "    .colab-df-container {\n",
              "      display:flex;\n",
              "      gap: 12px;\n",
              "    }\n",
              "\n",
              "    .colab-df-convert {\n",
              "      background-color: #E8F0FE;\n",
              "      border: none;\n",
              "      border-radius: 50%;\n",
              "      cursor: pointer;\n",
              "      display: none;\n",
              "      fill: #1967D2;\n",
              "      height: 32px;\n",
              "      padding: 0 0 0 0;\n",
              "      width: 32px;\n",
              "    }\n",
              "\n",
              "    .colab-df-convert:hover {\n",
              "      background-color: #E2EBFA;\n",
              "      box-shadow: 0px 1px 2px rgba(60, 64, 67, 0.3), 0px 1px 3px 1px rgba(60, 64, 67, 0.15);\n",
              "      fill: #174EA6;\n",
              "    }\n",
              "\n",
              "    .colab-df-buttons div {\n",
              "      margin-bottom: 4px;\n",
              "    }\n",
              "\n",
              "    [theme=dark] .colab-df-convert {\n",
              "      background-color: #3B4455;\n",
              "      fill: #D2E3FC;\n",
              "    }\n",
              "\n",
              "    [theme=dark] .colab-df-convert:hover {\n",
              "      background-color: #434B5C;\n",
              "      box-shadow: 0px 1px 3px 1px rgba(0, 0, 0, 0.15);\n",
              "      filter: drop-shadow(0px 1px 2px rgba(0, 0, 0, 0.3));\n",
              "      fill: #FFFFFF;\n",
              "    }\n",
              "  </style>\n",
              "\n",
              "    <script>\n",
              "      const buttonEl =\n",
              "        document.querySelector('#df-28c764cc-175e-4661-8485-228dc37ea4ce button.colab-df-convert');\n",
              "      buttonEl.style.display =\n",
              "        google.colab.kernel.accessAllowed ? 'block' : 'none';\n",
              "\n",
              "      async function convertToInteractive(key) {\n",
              "        const element = document.querySelector('#df-28c764cc-175e-4661-8485-228dc37ea4ce');\n",
              "        const dataTable =\n",
              "          await google.colab.kernel.invokeFunction('convertToInteractive',\n",
              "                                                    [key], {});\n",
              "        if (!dataTable) return;\n",
              "\n",
              "        const docLinkHtml = 'Like what you see? Visit the ' +\n",
              "          '<a target=\"_blank\" href=https://colab.research.google.com/notebooks/data_table.ipynb>data table notebook</a>'\n",
              "          + ' to learn more about interactive tables.';\n",
              "        element.innerHTML = '';\n",
              "        dataTable['output_type'] = 'display_data';\n",
              "        await google.colab.output.renderOutput(dataTable, element);\n",
              "        const docLink = document.createElement('div');\n",
              "        docLink.innerHTML = docLinkHtml;\n",
              "        element.appendChild(docLink);\n",
              "      }\n",
              "    </script>\n",
              "  </div>\n",
              "\n",
              "\n",
              "    <div id=\"df-4be4f1d0-e21a-4de2-a6d3-14be014c0669\">\n",
              "      <button class=\"colab-df-quickchart\" onclick=\"quickchart('df-4be4f1d0-e21a-4de2-a6d3-14be014c0669')\"\n",
              "                title=\"Suggest charts\"\n",
              "                style=\"display:none;\">\n",
              "\n",
              "<svg xmlns=\"http://www.w3.org/2000/svg\" height=\"24px\"viewBox=\"0 0 24 24\"\n",
              "     width=\"24px\">\n",
              "    <g>\n",
              "        <path d=\"M19 3H5c-1.1 0-2 .9-2 2v14c0 1.1.9 2 2 2h14c1.1 0 2-.9 2-2V5c0-1.1-.9-2-2-2zM9 17H7v-7h2v7zm4 0h-2V7h2v10zm4 0h-2v-4h2v4z\"/>\n",
              "    </g>\n",
              "</svg>\n",
              "      </button>\n",
              "\n",
              "<style>\n",
              "  .colab-df-quickchart {\n",
              "      --bg-color: #E8F0FE;\n",
              "      --fill-color: #1967D2;\n",
              "      --hover-bg-color: #E2EBFA;\n",
              "      --hover-fill-color: #174EA6;\n",
              "      --disabled-fill-color: #AAA;\n",
              "      --disabled-bg-color: #DDD;\n",
              "  }\n",
              "\n",
              "  [theme=dark] .colab-df-quickchart {\n",
              "      --bg-color: #3B4455;\n",
              "      --fill-color: #D2E3FC;\n",
              "      --hover-bg-color: #434B5C;\n",
              "      --hover-fill-color: #FFFFFF;\n",
              "      --disabled-bg-color: #3B4455;\n",
              "      --disabled-fill-color: #666;\n",
              "  }\n",
              "\n",
              "  .colab-df-quickchart {\n",
              "    background-color: var(--bg-color);\n",
              "    border: none;\n",
              "    border-radius: 50%;\n",
              "    cursor: pointer;\n",
              "    display: none;\n",
              "    fill: var(--fill-color);\n",
              "    height: 32px;\n",
              "    padding: 0;\n",
              "    width: 32px;\n",
              "  }\n",
              "\n",
              "  .colab-df-quickchart:hover {\n",
              "    background-color: var(--hover-bg-color);\n",
              "    box-shadow: 0 1px 2px rgba(60, 64, 67, 0.3), 0 1px 3px 1px rgba(60, 64, 67, 0.15);\n",
              "    fill: var(--button-hover-fill-color);\n",
              "  }\n",
              "\n",
              "  .colab-df-quickchart-complete:disabled,\n",
              "  .colab-df-quickchart-complete:disabled:hover {\n",
              "    background-color: var(--disabled-bg-color);\n",
              "    fill: var(--disabled-fill-color);\n",
              "    box-shadow: none;\n",
              "  }\n",
              "\n",
              "  .colab-df-spinner {\n",
              "    border: 2px solid var(--fill-color);\n",
              "    border-color: transparent;\n",
              "    border-bottom-color: var(--fill-color);\n",
              "    animation:\n",
              "      spin 1s steps(1) infinite;\n",
              "  }\n",
              "\n",
              "  @keyframes spin {\n",
              "    0% {\n",
              "      border-color: transparent;\n",
              "      border-bottom-color: var(--fill-color);\n",
              "      border-left-color: var(--fill-color);\n",
              "    }\n",
              "    20% {\n",
              "      border-color: transparent;\n",
              "      border-left-color: var(--fill-color);\n",
              "      border-top-color: var(--fill-color);\n",
              "    }\n",
              "    30% {\n",
              "      border-color: transparent;\n",
              "      border-left-color: var(--fill-color);\n",
              "      border-top-color: var(--fill-color);\n",
              "      border-right-color: var(--fill-color);\n",
              "    }\n",
              "    40% {\n",
              "      border-color: transparent;\n",
              "      border-right-color: var(--fill-color);\n",
              "      border-top-color: var(--fill-color);\n",
              "    }\n",
              "    60% {\n",
              "      border-color: transparent;\n",
              "      border-right-color: var(--fill-color);\n",
              "    }\n",
              "    80% {\n",
              "      border-color: transparent;\n",
              "      border-right-color: var(--fill-color);\n",
              "      border-bottom-color: var(--fill-color);\n",
              "    }\n",
              "    90% {\n",
              "      border-color: transparent;\n",
              "      border-bottom-color: var(--fill-color);\n",
              "    }\n",
              "  }\n",
              "</style>\n",
              "\n",
              "      <script>\n",
              "        async function quickchart(key) {\n",
              "          const quickchartButtonEl =\n",
              "            document.querySelector('#' + key + ' button');\n",
              "          quickchartButtonEl.disabled = true;  // To prevent multiple clicks.\n",
              "          quickchartButtonEl.classList.add('colab-df-spinner');\n",
              "          try {\n",
              "            const charts = await google.colab.kernel.invokeFunction(\n",
              "                'suggestCharts', [key], {});\n",
              "          } catch (error) {\n",
              "            console.error('Error during call to suggestCharts:', error);\n",
              "          }\n",
              "          quickchartButtonEl.classList.remove('colab-df-spinner');\n",
              "          quickchartButtonEl.classList.add('colab-df-quickchart-complete');\n",
              "        }\n",
              "        (() => {\n",
              "          let quickchartButtonEl =\n",
              "            document.querySelector('#df-4be4f1d0-e21a-4de2-a6d3-14be014c0669 button');\n",
              "          quickchartButtonEl.style.display =\n",
              "            google.colab.kernel.accessAllowed ? 'block' : 'none';\n",
              "        })();\n",
              "      </script>\n",
              "    </div>\n",
              "\n",
              "  <div id=\"id_b89d393f-4ad3-4a78-bfa7-364231d64136\">\n",
              "    <style>\n",
              "      .colab-df-generate {\n",
              "        background-color: #E8F0FE;\n",
              "        border: none;\n",
              "        border-radius: 50%;\n",
              "        cursor: pointer;\n",
              "        display: none;\n",
              "        fill: #1967D2;\n",
              "        height: 32px;\n",
              "        padding: 0 0 0 0;\n",
              "        width: 32px;\n",
              "      }\n",
              "\n",
              "      .colab-df-generate:hover {\n",
              "        background-color: #E2EBFA;\n",
              "        box-shadow: 0px 1px 2px rgba(60, 64, 67, 0.3), 0px 1px 3px 1px rgba(60, 64, 67, 0.15);\n",
              "        fill: #174EA6;\n",
              "      }\n",
              "\n",
              "      [theme=dark] .colab-df-generate {\n",
              "        background-color: #3B4455;\n",
              "        fill: #D2E3FC;\n",
              "      }\n",
              "\n",
              "      [theme=dark] .colab-df-generate:hover {\n",
              "        background-color: #434B5C;\n",
              "        box-shadow: 0px 1px 3px 1px rgba(0, 0, 0, 0.15);\n",
              "        filter: drop-shadow(0px 1px 2px rgba(0, 0, 0, 0.3));\n",
              "        fill: #FFFFFF;\n",
              "      }\n",
              "    </style>\n",
              "    <button class=\"colab-df-generate\" onclick=\"generateWithVariable('x')\"\n",
              "            title=\"Generate code using this dataframe.\"\n",
              "            style=\"display:none;\">\n",
              "\n",
              "  <svg xmlns=\"http://www.w3.org/2000/svg\" height=\"24px\"viewBox=\"0 0 24 24\"\n",
              "       width=\"24px\">\n",
              "    <path d=\"M7,19H8.4L18.45,9,17,7.55,7,17.6ZM5,21V16.75L18.45,3.32a2,2,0,0,1,2.83,0l1.4,1.43a1.91,1.91,0,0,1,.58,1.4,1.91,1.91,0,0,1-.58,1.4L9.25,21ZM18.45,9,17,7.55Zm-12,3A5.31,5.31,0,0,0,4.9,8.1,5.31,5.31,0,0,0,1,6.5,5.31,5.31,0,0,0,4.9,4.9,5.31,5.31,0,0,0,6.5,1,5.31,5.31,0,0,0,8.1,4.9,5.31,5.31,0,0,0,12,6.5,5.46,5.46,0,0,0,6.5,12Z\"/>\n",
              "  </svg>\n",
              "    </button>\n",
              "    <script>\n",
              "      (() => {\n",
              "      const buttonEl =\n",
              "        document.querySelector('#id_b89d393f-4ad3-4a78-bfa7-364231d64136 button.colab-df-generate');\n",
              "      buttonEl.style.display =\n",
              "        google.colab.kernel.accessAllowed ? 'block' : 'none';\n",
              "\n",
              "      buttonEl.onclick = () => {\n",
              "        google.colab.notebook.generateWithVariable('x');\n",
              "      }\n",
              "      })();\n",
              "    </script>\n",
              "  </div>\n",
              "\n",
              "    </div>\n",
              "  </div>\n"
            ],
            "application/vnd.google.colaboratory.intrinsic+json": {
              "type": "dataframe",
              "variable_name": "x",
              "summary": "{\n  \"name\": \"x\",\n  \"rows\": 54025,\n  \"fields\": [\n    {\n      \"column\": \"receita_cliente\",\n      \"properties\": {\n        \"dtype\": \"number\",\n        \"std\": 9658.762569130264,\n        \"min\": 2700.0,\n        \"max\": 450000.0,\n        \"num_unique_values\": 663,\n        \"samples\": [\n          11018.7,\n          38520.0,\n          17796.6\n        ],\n        \"semantic_type\": \"\",\n        \"description\": \"\"\n      }\n    },\n    {\n      \"column\": \"anuidade_emprestimo\",\n      \"properties\": {\n        \"dtype\": \"number\",\n        \"std\": 1305.3647344874787,\n        \"min\": 218.7,\n        \"max\": 22500.0,\n        \"num_unique_values\": 8004,\n        \"samples\": [\n          5339.7,\n          5067.0,\n          5757.3\n        ],\n        \"semantic_type\": \"\",\n        \"description\": \"\"\n      }\n    },\n    {\n      \"column\": \"anos_casa_propria\",\n      \"properties\": {\n        \"dtype\": \"number\",\n        \"std\": 7.452120104984191,\n        \"min\": 0.0,\n        \"max\": 69.0,\n        \"num_unique_values\": 53,\n        \"samples\": [\n          11.0,\n          31.0,\n          32.0\n        ],\n        \"semantic_type\": \"\",\n        \"description\": \"\"\n      }\n    },\n    {\n      \"column\": \"telefone_trab\",\n      \"properties\": {\n        \"dtype\": \"number\",\n        \"std\": 0,\n        \"min\": 0,\n        \"max\": 1,\n        \"num_unique_values\": 2,\n        \"samples\": [\n          0,\n          1\n        ],\n        \"semantic_type\": \"\",\n        \"description\": \"\"\n      }\n    },\n    {\n      \"column\": \"avaliacao_cidade\",\n      \"properties\": {\n        \"dtype\": \"number\",\n        \"std\": 0.49880682251877845,\n        \"min\": 1.0,\n        \"max\": 3.0,\n        \"num_unique_values\": 4,\n        \"samples\": [\n          3.0,\n          2.030038427084816\n        ],\n        \"semantic_type\": \"\",\n        \"description\": \"\"\n      }\n    },\n    {\n      \"column\": \"score_1\",\n      \"properties\": {\n        \"dtype\": \"number\",\n        \"std\": 0.14238945649917853,\n        \"min\": 0.014568132,\n        \"max\": 0.942680454,\n        \"num_unique_values\": 23062,\n        \"samples\": [\n          0.475611877,\n          0.435226091\n        ],\n        \"semantic_type\": \"\",\n        \"description\": \"\"\n      }\n    },\n    {\n      \"column\": \"score_2\",\n      \"properties\": {\n        \"dtype\": \"number\",\n        \"std\": 0.8759454878096079,\n        \"min\": 5e-06,\n        \"max\": 100.0,\n        \"num_unique_values\": 38047,\n        \"samples\": [\n          0.416306086,\n          0.675062411\n        ],\n        \"semantic_type\": \"\",\n        \"description\": \"\"\n      }\n    },\n    {\n      \"column\": \"score_3\",\n      \"properties\": {\n        \"dtype\": \"number\",\n        \"std\": 0.06272486372343226,\n        \"min\": 0.000527265,\n        \"max\": 0.869210801,\n        \"num_unique_values\": 612,\n        \"samples\": [\n          0.420610964,\n          0.168416171\n        ],\n        \"semantic_type\": \"\",\n        \"description\": \"\"\n      }\n    },\n    {\n      \"column\": \"score_social\",\n      \"properties\": {\n        \"dtype\": \"number\",\n        \"std\": 0.0761796573204536,\n        \"min\": 0.0,\n        \"max\": 1.0,\n        \"num_unique_values\": 1459,\n        \"samples\": [\n          0.1674,\n          0.6381\n        ],\n        \"semantic_type\": \"\",\n        \"description\": \"\"\n      }\n    },\n    {\n      \"column\": \"troca_telefone\",\n      \"properties\": {\n        \"dtype\": \"number\",\n        \"std\": 818.1417090553241,\n        \"min\": 0.0,\n        \"max\": 4185.0,\n        \"num_unique_values\": 3408,\n        \"samples\": [\n          966.0,\n          3099.0\n        ],\n        \"semantic_type\": \"\",\n        \"description\": \"\"\n      }\n    }\n  ]\n}"
            }
          },
          "metadata": {},
          "execution_count": 7
        }
      ]
    },
    {
      "cell_type": "code",
      "source": [
        "#Iremos utilizar árvore de decisão\n",
        "from sklearn.tree import DecisionTreeClassifier"
      ],
      "metadata": {
        "id": "xjgblcT5JTC0"
      },
      "execution_count": 8,
      "outputs": []
    },
    {
      "cell_type": "code",
      "source": [
        "modelo = DecisionTreeClassifier()\n",
        "modelo.fit(x, y)"
      ],
      "metadata": {
        "colab": {
          "base_uri": "https://localhost:8080/",
          "height": 80
        },
        "id": "NDt4WxKqJZxL",
        "outputId": "89ae5d64-7cc9-4e4d-db7f-4cc81315d209"
      },
      "execution_count": 9,
      "outputs": [
        {
          "output_type": "execute_result",
          "data": {
            "text/plain": [
              "DecisionTreeClassifier()"
            ],
            "text/html": [
              "<style>#sk-container-id-1 {\n",
              "  /* Definition of color scheme common for light and dark mode */\n",
              "  --sklearn-color-text: #000;\n",
              "  --sklearn-color-text-muted: #666;\n",
              "  --sklearn-color-line: gray;\n",
              "  /* Definition of color scheme for unfitted estimators */\n",
              "  --sklearn-color-unfitted-level-0: #fff5e6;\n",
              "  --sklearn-color-unfitted-level-1: #f6e4d2;\n",
              "  --sklearn-color-unfitted-level-2: #ffe0b3;\n",
              "  --sklearn-color-unfitted-level-3: chocolate;\n",
              "  /* Definition of color scheme for fitted estimators */\n",
              "  --sklearn-color-fitted-level-0: #f0f8ff;\n",
              "  --sklearn-color-fitted-level-1: #d4ebff;\n",
              "  --sklearn-color-fitted-level-2: #b3dbfd;\n",
              "  --sklearn-color-fitted-level-3: cornflowerblue;\n",
              "\n",
              "  /* Specific color for light theme */\n",
              "  --sklearn-color-text-on-default-background: var(--sg-text-color, var(--theme-code-foreground, var(--jp-content-font-color1, black)));\n",
              "  --sklearn-color-background: var(--sg-background-color, var(--theme-background, var(--jp-layout-color0, white)));\n",
              "  --sklearn-color-border-box: var(--sg-text-color, var(--theme-code-foreground, var(--jp-content-font-color1, black)));\n",
              "  --sklearn-color-icon: #696969;\n",
              "\n",
              "  @media (prefers-color-scheme: dark) {\n",
              "    /* Redefinition of color scheme for dark theme */\n",
              "    --sklearn-color-text-on-default-background: var(--sg-text-color, var(--theme-code-foreground, var(--jp-content-font-color1, white)));\n",
              "    --sklearn-color-background: var(--sg-background-color, var(--theme-background, var(--jp-layout-color0, #111)));\n",
              "    --sklearn-color-border-box: var(--sg-text-color, var(--theme-code-foreground, var(--jp-content-font-color1, white)));\n",
              "    --sklearn-color-icon: #878787;\n",
              "  }\n",
              "}\n",
              "\n",
              "#sk-container-id-1 {\n",
              "  color: var(--sklearn-color-text);\n",
              "}\n",
              "\n",
              "#sk-container-id-1 pre {\n",
              "  padding: 0;\n",
              "}\n",
              "\n",
              "#sk-container-id-1 input.sk-hidden--visually {\n",
              "  border: 0;\n",
              "  clip: rect(1px 1px 1px 1px);\n",
              "  clip: rect(1px, 1px, 1px, 1px);\n",
              "  height: 1px;\n",
              "  margin: -1px;\n",
              "  overflow: hidden;\n",
              "  padding: 0;\n",
              "  position: absolute;\n",
              "  width: 1px;\n",
              "}\n",
              "\n",
              "#sk-container-id-1 div.sk-dashed-wrapped {\n",
              "  border: 1px dashed var(--sklearn-color-line);\n",
              "  margin: 0 0.4em 0.5em 0.4em;\n",
              "  box-sizing: border-box;\n",
              "  padding-bottom: 0.4em;\n",
              "  background-color: var(--sklearn-color-background);\n",
              "}\n",
              "\n",
              "#sk-container-id-1 div.sk-container {\n",
              "  /* jupyter's `normalize.less` sets `[hidden] { display: none; }`\n",
              "     but bootstrap.min.css set `[hidden] { display: none !important; }`\n",
              "     so we also need the `!important` here to be able to override the\n",
              "     default hidden behavior on the sphinx rendered scikit-learn.org.\n",
              "     See: https://github.com/scikit-learn/scikit-learn/issues/21755 */\n",
              "  display: inline-block !important;\n",
              "  position: relative;\n",
              "}\n",
              "\n",
              "#sk-container-id-1 div.sk-text-repr-fallback {\n",
              "  display: none;\n",
              "}\n",
              "\n",
              "div.sk-parallel-item,\n",
              "div.sk-serial,\n",
              "div.sk-item {\n",
              "  /* draw centered vertical line to link estimators */\n",
              "  background-image: linear-gradient(var(--sklearn-color-text-on-default-background), var(--sklearn-color-text-on-default-background));\n",
              "  background-size: 2px 100%;\n",
              "  background-repeat: no-repeat;\n",
              "  background-position: center center;\n",
              "}\n",
              "\n",
              "/* Parallel-specific style estimator block */\n",
              "\n",
              "#sk-container-id-1 div.sk-parallel-item::after {\n",
              "  content: \"\";\n",
              "  width: 100%;\n",
              "  border-bottom: 2px solid var(--sklearn-color-text-on-default-background);\n",
              "  flex-grow: 1;\n",
              "}\n",
              "\n",
              "#sk-container-id-1 div.sk-parallel {\n",
              "  display: flex;\n",
              "  align-items: stretch;\n",
              "  justify-content: center;\n",
              "  background-color: var(--sklearn-color-background);\n",
              "  position: relative;\n",
              "}\n",
              "\n",
              "#sk-container-id-1 div.sk-parallel-item {\n",
              "  display: flex;\n",
              "  flex-direction: column;\n",
              "}\n",
              "\n",
              "#sk-container-id-1 div.sk-parallel-item:first-child::after {\n",
              "  align-self: flex-end;\n",
              "  width: 50%;\n",
              "}\n",
              "\n",
              "#sk-container-id-1 div.sk-parallel-item:last-child::after {\n",
              "  align-self: flex-start;\n",
              "  width: 50%;\n",
              "}\n",
              "\n",
              "#sk-container-id-1 div.sk-parallel-item:only-child::after {\n",
              "  width: 0;\n",
              "}\n",
              "\n",
              "/* Serial-specific style estimator block */\n",
              "\n",
              "#sk-container-id-1 div.sk-serial {\n",
              "  display: flex;\n",
              "  flex-direction: column;\n",
              "  align-items: center;\n",
              "  background-color: var(--sklearn-color-background);\n",
              "  padding-right: 1em;\n",
              "  padding-left: 1em;\n",
              "}\n",
              "\n",
              "\n",
              "/* Toggleable style: style used for estimator/Pipeline/ColumnTransformer box that is\n",
              "clickable and can be expanded/collapsed.\n",
              "- Pipeline and ColumnTransformer use this feature and define the default style\n",
              "- Estimators will overwrite some part of the style using the `sk-estimator` class\n",
              "*/\n",
              "\n",
              "/* Pipeline and ColumnTransformer style (default) */\n",
              "\n",
              "#sk-container-id-1 div.sk-toggleable {\n",
              "  /* Default theme specific background. It is overwritten whether we have a\n",
              "  specific estimator or a Pipeline/ColumnTransformer */\n",
              "  background-color: var(--sklearn-color-background);\n",
              "}\n",
              "\n",
              "/* Toggleable label */\n",
              "#sk-container-id-1 label.sk-toggleable__label {\n",
              "  cursor: pointer;\n",
              "  display: flex;\n",
              "  width: 100%;\n",
              "  margin-bottom: 0;\n",
              "  padding: 0.5em;\n",
              "  box-sizing: border-box;\n",
              "  text-align: center;\n",
              "  align-items: start;\n",
              "  justify-content: space-between;\n",
              "  gap: 0.5em;\n",
              "}\n",
              "\n",
              "#sk-container-id-1 label.sk-toggleable__label .caption {\n",
              "  font-size: 0.6rem;\n",
              "  font-weight: lighter;\n",
              "  color: var(--sklearn-color-text-muted);\n",
              "}\n",
              "\n",
              "#sk-container-id-1 label.sk-toggleable__label-arrow:before {\n",
              "  /* Arrow on the left of the label */\n",
              "  content: \"▸\";\n",
              "  float: left;\n",
              "  margin-right: 0.25em;\n",
              "  color: var(--sklearn-color-icon);\n",
              "}\n",
              "\n",
              "#sk-container-id-1 label.sk-toggleable__label-arrow:hover:before {\n",
              "  color: var(--sklearn-color-text);\n",
              "}\n",
              "\n",
              "/* Toggleable content - dropdown */\n",
              "\n",
              "#sk-container-id-1 div.sk-toggleable__content {\n",
              "  max-height: 0;\n",
              "  max-width: 0;\n",
              "  overflow: hidden;\n",
              "  text-align: left;\n",
              "  /* unfitted */\n",
              "  background-color: var(--sklearn-color-unfitted-level-0);\n",
              "}\n",
              "\n",
              "#sk-container-id-1 div.sk-toggleable__content.fitted {\n",
              "  /* fitted */\n",
              "  background-color: var(--sklearn-color-fitted-level-0);\n",
              "}\n",
              "\n",
              "#sk-container-id-1 div.sk-toggleable__content pre {\n",
              "  margin: 0.2em;\n",
              "  border-radius: 0.25em;\n",
              "  color: var(--sklearn-color-text);\n",
              "  /* unfitted */\n",
              "  background-color: var(--sklearn-color-unfitted-level-0);\n",
              "}\n",
              "\n",
              "#sk-container-id-1 div.sk-toggleable__content.fitted pre {\n",
              "  /* unfitted */\n",
              "  background-color: var(--sklearn-color-fitted-level-0);\n",
              "}\n",
              "\n",
              "#sk-container-id-1 input.sk-toggleable__control:checked~div.sk-toggleable__content {\n",
              "  /* Expand drop-down */\n",
              "  max-height: 200px;\n",
              "  max-width: 100%;\n",
              "  overflow: auto;\n",
              "}\n",
              "\n",
              "#sk-container-id-1 input.sk-toggleable__control:checked~label.sk-toggleable__label-arrow:before {\n",
              "  content: \"▾\";\n",
              "}\n",
              "\n",
              "/* Pipeline/ColumnTransformer-specific style */\n",
              "\n",
              "#sk-container-id-1 div.sk-label input.sk-toggleable__control:checked~label.sk-toggleable__label {\n",
              "  color: var(--sklearn-color-text);\n",
              "  background-color: var(--sklearn-color-unfitted-level-2);\n",
              "}\n",
              "\n",
              "#sk-container-id-1 div.sk-label.fitted input.sk-toggleable__control:checked~label.sk-toggleable__label {\n",
              "  background-color: var(--sklearn-color-fitted-level-2);\n",
              "}\n",
              "\n",
              "/* Estimator-specific style */\n",
              "\n",
              "/* Colorize estimator box */\n",
              "#sk-container-id-1 div.sk-estimator input.sk-toggleable__control:checked~label.sk-toggleable__label {\n",
              "  /* unfitted */\n",
              "  background-color: var(--sklearn-color-unfitted-level-2);\n",
              "}\n",
              "\n",
              "#sk-container-id-1 div.sk-estimator.fitted input.sk-toggleable__control:checked~label.sk-toggleable__label {\n",
              "  /* fitted */\n",
              "  background-color: var(--sklearn-color-fitted-level-2);\n",
              "}\n",
              "\n",
              "#sk-container-id-1 div.sk-label label.sk-toggleable__label,\n",
              "#sk-container-id-1 div.sk-label label {\n",
              "  /* The background is the default theme color */\n",
              "  color: var(--sklearn-color-text-on-default-background);\n",
              "}\n",
              "\n",
              "/* On hover, darken the color of the background */\n",
              "#sk-container-id-1 div.sk-label:hover label.sk-toggleable__label {\n",
              "  color: var(--sklearn-color-text);\n",
              "  background-color: var(--sklearn-color-unfitted-level-2);\n",
              "}\n",
              "\n",
              "/* Label box, darken color on hover, fitted */\n",
              "#sk-container-id-1 div.sk-label.fitted:hover label.sk-toggleable__label.fitted {\n",
              "  color: var(--sklearn-color-text);\n",
              "  background-color: var(--sklearn-color-fitted-level-2);\n",
              "}\n",
              "\n",
              "/* Estimator label */\n",
              "\n",
              "#sk-container-id-1 div.sk-label label {\n",
              "  font-family: monospace;\n",
              "  font-weight: bold;\n",
              "  display: inline-block;\n",
              "  line-height: 1.2em;\n",
              "}\n",
              "\n",
              "#sk-container-id-1 div.sk-label-container {\n",
              "  text-align: center;\n",
              "}\n",
              "\n",
              "/* Estimator-specific */\n",
              "#sk-container-id-1 div.sk-estimator {\n",
              "  font-family: monospace;\n",
              "  border: 1px dotted var(--sklearn-color-border-box);\n",
              "  border-radius: 0.25em;\n",
              "  box-sizing: border-box;\n",
              "  margin-bottom: 0.5em;\n",
              "  /* unfitted */\n",
              "  background-color: var(--sklearn-color-unfitted-level-0);\n",
              "}\n",
              "\n",
              "#sk-container-id-1 div.sk-estimator.fitted {\n",
              "  /* fitted */\n",
              "  background-color: var(--sklearn-color-fitted-level-0);\n",
              "}\n",
              "\n",
              "/* on hover */\n",
              "#sk-container-id-1 div.sk-estimator:hover {\n",
              "  /* unfitted */\n",
              "  background-color: var(--sklearn-color-unfitted-level-2);\n",
              "}\n",
              "\n",
              "#sk-container-id-1 div.sk-estimator.fitted:hover {\n",
              "  /* fitted */\n",
              "  background-color: var(--sklearn-color-fitted-level-2);\n",
              "}\n",
              "\n",
              "/* Specification for estimator info (e.g. \"i\" and \"?\") */\n",
              "\n",
              "/* Common style for \"i\" and \"?\" */\n",
              "\n",
              ".sk-estimator-doc-link,\n",
              "a:link.sk-estimator-doc-link,\n",
              "a:visited.sk-estimator-doc-link {\n",
              "  float: right;\n",
              "  font-size: smaller;\n",
              "  line-height: 1em;\n",
              "  font-family: monospace;\n",
              "  background-color: var(--sklearn-color-background);\n",
              "  border-radius: 1em;\n",
              "  height: 1em;\n",
              "  width: 1em;\n",
              "  text-decoration: none !important;\n",
              "  margin-left: 0.5em;\n",
              "  text-align: center;\n",
              "  /* unfitted */\n",
              "  border: var(--sklearn-color-unfitted-level-1) 1pt solid;\n",
              "  color: var(--sklearn-color-unfitted-level-1);\n",
              "}\n",
              "\n",
              ".sk-estimator-doc-link.fitted,\n",
              "a:link.sk-estimator-doc-link.fitted,\n",
              "a:visited.sk-estimator-doc-link.fitted {\n",
              "  /* fitted */\n",
              "  border: var(--sklearn-color-fitted-level-1) 1pt solid;\n",
              "  color: var(--sklearn-color-fitted-level-1);\n",
              "}\n",
              "\n",
              "/* On hover */\n",
              "div.sk-estimator:hover .sk-estimator-doc-link:hover,\n",
              ".sk-estimator-doc-link:hover,\n",
              "div.sk-label-container:hover .sk-estimator-doc-link:hover,\n",
              ".sk-estimator-doc-link:hover {\n",
              "  /* unfitted */\n",
              "  background-color: var(--sklearn-color-unfitted-level-3);\n",
              "  color: var(--sklearn-color-background);\n",
              "  text-decoration: none;\n",
              "}\n",
              "\n",
              "div.sk-estimator.fitted:hover .sk-estimator-doc-link.fitted:hover,\n",
              ".sk-estimator-doc-link.fitted:hover,\n",
              "div.sk-label-container:hover .sk-estimator-doc-link.fitted:hover,\n",
              ".sk-estimator-doc-link.fitted:hover {\n",
              "  /* fitted */\n",
              "  background-color: var(--sklearn-color-fitted-level-3);\n",
              "  color: var(--sklearn-color-background);\n",
              "  text-decoration: none;\n",
              "}\n",
              "\n",
              "/* Span, style for the box shown on hovering the info icon */\n",
              ".sk-estimator-doc-link span {\n",
              "  display: none;\n",
              "  z-index: 9999;\n",
              "  position: relative;\n",
              "  font-weight: normal;\n",
              "  right: .2ex;\n",
              "  padding: .5ex;\n",
              "  margin: .5ex;\n",
              "  width: min-content;\n",
              "  min-width: 20ex;\n",
              "  max-width: 50ex;\n",
              "  color: var(--sklearn-color-text);\n",
              "  box-shadow: 2pt 2pt 4pt #999;\n",
              "  /* unfitted */\n",
              "  background: var(--sklearn-color-unfitted-level-0);\n",
              "  border: .5pt solid var(--sklearn-color-unfitted-level-3);\n",
              "}\n",
              "\n",
              ".sk-estimator-doc-link.fitted span {\n",
              "  /* fitted */\n",
              "  background: var(--sklearn-color-fitted-level-0);\n",
              "  border: var(--sklearn-color-fitted-level-3);\n",
              "}\n",
              "\n",
              ".sk-estimator-doc-link:hover span {\n",
              "  display: block;\n",
              "}\n",
              "\n",
              "/* \"?\"-specific style due to the `<a>` HTML tag */\n",
              "\n",
              "#sk-container-id-1 a.estimator_doc_link {\n",
              "  float: right;\n",
              "  font-size: 1rem;\n",
              "  line-height: 1em;\n",
              "  font-family: monospace;\n",
              "  background-color: var(--sklearn-color-background);\n",
              "  border-radius: 1rem;\n",
              "  height: 1rem;\n",
              "  width: 1rem;\n",
              "  text-decoration: none;\n",
              "  /* unfitted */\n",
              "  color: var(--sklearn-color-unfitted-level-1);\n",
              "  border: var(--sklearn-color-unfitted-level-1) 1pt solid;\n",
              "}\n",
              "\n",
              "#sk-container-id-1 a.estimator_doc_link.fitted {\n",
              "  /* fitted */\n",
              "  border: var(--sklearn-color-fitted-level-1) 1pt solid;\n",
              "  color: var(--sklearn-color-fitted-level-1);\n",
              "}\n",
              "\n",
              "/* On hover */\n",
              "#sk-container-id-1 a.estimator_doc_link:hover {\n",
              "  /* unfitted */\n",
              "  background-color: var(--sklearn-color-unfitted-level-3);\n",
              "  color: var(--sklearn-color-background);\n",
              "  text-decoration: none;\n",
              "}\n",
              "\n",
              "#sk-container-id-1 a.estimator_doc_link.fitted:hover {\n",
              "  /* fitted */\n",
              "  background-color: var(--sklearn-color-fitted-level-3);\n",
              "}\n",
              "</style><div id=\"sk-container-id-1\" class=\"sk-top-container\"><div class=\"sk-text-repr-fallback\"><pre>DecisionTreeClassifier()</pre><b>In a Jupyter environment, please rerun this cell to show the HTML representation or trust the notebook. <br />On GitHub, the HTML representation is unable to render, please try loading this page with nbviewer.org.</b></div><div class=\"sk-container\" hidden><div class=\"sk-item\"><div class=\"sk-estimator fitted sk-toggleable\"><input class=\"sk-toggleable__control sk-hidden--visually\" id=\"sk-estimator-id-1\" type=\"checkbox\" checked><label for=\"sk-estimator-id-1\" class=\"sk-toggleable__label fitted sk-toggleable__label-arrow\"><div><div>DecisionTreeClassifier</div></div><div><a class=\"sk-estimator-doc-link fitted\" rel=\"noreferrer\" target=\"_blank\" href=\"https://scikit-learn.org/1.6/modules/generated/sklearn.tree.DecisionTreeClassifier.html\">?<span>Documentation for DecisionTreeClassifier</span></a><span class=\"sk-estimator-doc-link fitted\">i<span>Fitted</span></span></div></label><div class=\"sk-toggleable__content fitted\"><pre>DecisionTreeClassifier()</pre></div> </div></div></div></div>"
            ]
          },
          "metadata": {},
          "execution_count": 9
        }
      ]
    },
    {
      "cell_type": "code",
      "source": [
        "modelo.score(x,y)"
      ],
      "metadata": {
        "colab": {
          "base_uri": "https://localhost:8080/"
        },
        "id": "b-X35ALPJjW0",
        "outputId": "fa77be9b-9b43-47b7-8741-5b6c205d5a72"
      },
      "execution_count": 10,
      "outputs": [
        {
          "output_type": "execute_result",
          "data": {
            "text/plain": [
              "1.0"
            ]
          },
          "metadata": {},
          "execution_count": 10
        }
      ]
    },
    {
      "cell_type": "code",
      "source": [
        "print(f'Acurácia: {modelo.score(x,y)*100}%')"
      ],
      "metadata": {
        "colab": {
          "base_uri": "https://localhost:8080/"
        },
        "id": "-vQ05pUpJnfc",
        "outputId": "d37dce71-40f8-4df3-d115-86647af1a659"
      },
      "execution_count": 12,
      "outputs": [
        {
          "output_type": "stream",
          "name": "stdout",
          "text": [
            "Acurácia: 100.0%\n"
          ]
        }
      ]
    },
    {
      "cell_type": "markdown",
      "source": [
        "Resultado enganoso, precisamos distribuir os dados entre treino e teste"
      ],
      "metadata": {
        "id": "Z8v1AFTcJ-Lc"
      }
    },
    {
      "cell_type": "markdown",
      "source": [
        "##Validando o modelo"
      ],
      "metadata": {
        "id": "2ADoRyRzLKIc"
      }
    },
    {
      "cell_type": "code",
      "source": [
        "from sklearn.model_selection import train_test_split"
      ],
      "metadata": {
        "id": "I1qcMdwwKCqU"
      },
      "execution_count": 13,
      "outputs": []
    },
    {
      "cell_type": "code",
      "source": [
        "x, x_teste, y, y_teste = train_test_split(x, y,test_size=0.15, stratify=y, random_state = 5)\n",
        "x_treino, x_val, y_treino, y_val = train_test_split(x, y, stratify=y, random_state = 5)\n"
      ],
      "metadata": {
        "id": "yTfQVVCoLsul"
      },
      "execution_count": 14,
      "outputs": []
    },
    {
      "cell_type": "code",
      "source": [
        "modelo = DecisionTreeClassifier()\n",
        "modelo.fit(x_treino, y_treino)\n",
        "print(f'Acurácia de treino:{modelo.score(x_treino, y_treino)*100}%')\n",
        "print(f'Acurácia de validacão:{modelo.score(x_val, y_val)*100}%')"
      ],
      "metadata": {
        "colab": {
          "base_uri": "https://localhost:8080/"
        },
        "id": "xK6_zX-gMbiM",
        "outputId": "2cc9f718-a238-4d87-d264-4777de9b8ca1"
      },
      "execution_count": 15,
      "outputs": [
        {
          "output_type": "stream",
          "name": "stdout",
          "text": [
            "Acurácia de treino:100.0%\n",
            "Acurácia de validacão:84.94033620764742%\n"
          ]
        }
      ]
    },
    {
      "cell_type": "markdown",
      "source": [
        "Desempenho caindo de forma drástica, acabou errando muito nos dados de validação (dados que ele não viu)"
      ],
      "metadata": {
        "id": "sIsMoq17M9_F"
      }
    },
    {
      "cell_type": "code",
      "source": [
        "#Iremos usar o parâmetro de max depth\n",
        "modelo = DecisionTreeClassifier(max_depth=3)\n",
        "modelo.fit(x_treino, y_treino)\n",
        "print(f'Acurácia de treino:{modelo.score(x_treino, y_treino)*100}%')\n",
        "print(f'Acurácia de validacão:{modelo.score(x_val, y_val)*100}%')"
      ],
      "metadata": {
        "colab": {
          "base_uri": "https://localhost:8080/"
        },
        "id": "L6VcgwNBNGDr",
        "outputId": "e3eb9705-8a6a-4cf1-c787-34a8b881c31c"
      },
      "execution_count": 16,
      "outputs": [
        {
          "output_type": "stream",
          "name": "stdout",
          "text": [
            "Acurácia de treino:91.26887340301974%\n",
            "Acurácia de validacão:91.27253723543245%\n"
          ]
        }
      ]
    },
    {
      "cell_type": "markdown",
      "source": [
        "É possível ver uma melhoria em relação ao padrão dos dados.Agora iremos avaliar o modelo de forma mais específica para cada uma das classes!"
      ],
      "metadata": {
        "id": "zY2B55tyNRs-"
      }
    },
    {
      "cell_type": "markdown",
      "source": [
        "##Avaliando o modelo"
      ],
      "metadata": {
        "id": "64SskA94NfQp"
      }
    },
    {
      "cell_type": "code",
      "source": [
        "#Aqui iremos aprender sobre a matriz de confusão\n",
        "\n",
        "from sklearn.metrics import confusion_matrix"
      ],
      "metadata": {
        "id": "7UZHAmEVNzRJ"
      },
      "execution_count": 17,
      "outputs": []
    },
    {
      "cell_type": "code",
      "source": [
        "y_previsto = modelo.predict(x_val)\n",
        "matriz_confusao  = confusion_matrix(y_val, y_previsto)\n",
        "matriz_confusao"
      ],
      "metadata": {
        "colab": {
          "base_uri": "https://localhost:8080/"
        },
        "id": "YpaYo9BeN8JB",
        "outputId": "14e98e77-9abb-4a92-fddf-f1bde45a92f0"
      },
      "execution_count": 18,
      "outputs": [
        {
          "output_type": "execute_result",
          "data": {
            "text/plain": [
              "array([[10479,     0],\n",
              "       [ 1002,     0]])"
            ]
          },
          "metadata": {},
          "execution_count": 18
        }
      ]
    },
    {
      "cell_type": "code",
      "source": [
        "from sklearn.metrics import ConfusionMatrixDisplay"
      ],
      "metadata": {
        "id": "vBkx1bJjO0na"
      },
      "execution_count": 19,
      "outputs": []
    },
    {
      "cell_type": "code",
      "source": [
        "visualizacao = ConfusionMatrixDisplay(confusion_matrix=matriz_confusao, display_labels = ['Adimplente', 'Inadimplente'])\n",
        "visualizacao.plot();\n",
        "# 0 = Clientes que pagam as contas em dia\n",
        "# 1 = Inadimplentes"
      ],
      "metadata": {
        "colab": {
          "base_uri": "https://localhost:8080/",
          "height": 449
        },
        "id": "oDb4NZyoO9Oq",
        "outputId": "f9d91d18-90d4-457a-a942-763af781990e"
      },
      "execution_count": 21,
      "outputs": [
        {
          "output_type": "display_data",
          "data": {
            "text/plain": [
              "<Figure size 640x480 with 2 Axes>"
            ],
            "image/png": "[encoded data removed]"
          },
          "metadata": {}
        }
      ]
    },
    {
      "cell_type": "markdown",
      "source": [
        "![image.png](data:image/png;base64,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)"
      ],
      "metadata": {
        "id": "WWljhwa3QPYy"
      }
    },
    {
      "cell_type": "markdown",
      "source": [
        "##Utilizando o Random Forest Classifier"
      ],
      "metadata": {
        "id": "hC-I9s5ZQxSh"
      }
    },
    {
      "cell_type": "code",
      "source": [
        "from sklearn.ensemble import RandomForestClassifier\n"
      ],
      "metadata": {
        "id": "sz6mCzpwPGIq"
      },
      "execution_count": 22,
      "outputs": []
    },
    {
      "cell_type": "code",
      "source": [
        "modelo_ex = RandomForestClassifier(max_depth=5, random_state=5)\n",
        "modelo_ex.fit(x_treino, y_treino)\n",
        "print(f'Acurácia de treino:{modelo_ex.score(x_treino, y_treino)*100}%')\n",
        "print(f'Acurácia de validacão:{modelo_ex.score(x_val, y_val)*100}%')"
      ],
      "metadata": {
        "colab": {
          "base_uri": "https://localhost:8080/"
        },
        "id": "PQCzF66QQ7De",
        "outputId": "b1d9fd1e-0fe2-42c2-96e2-a27b8a3f1c22"
      },
      "execution_count": 23,
      "outputs": [
        {
          "output_type": "stream",
          "name": "stdout",
          "text": [
            "Acurácia de treino:91.26887340301974%\n",
            "Acurácia de validacão:91.27253723543245%\n"
          ]
        }
      ]
    },
    {
      "cell_type": "code",
      "source": [
        "y_previsto_ex = modelo_ex.predict(x_val)"
      ],
      "metadata": {
        "id": "qfRggpF4RR4K"
      },
      "execution_count": 24,
      "outputs": []
    },
    {
      "cell_type": "code",
      "source": [
        "matriz_confusao_ex = confusion_matrix(y_val, y_previsto_ex)\n",
        "matriz_confusao_ex"
      ],
      "metadata": {
        "colab": {
          "base_uri": "https://localhost:8080/"
        },
        "id": "8pcHMBxERaC-",
        "outputId": "5fc76c3f-22dd-43b3-d8b0-bda5cc99bfde"
      },
      "execution_count": 25,
      "outputs": [
        {
          "output_type": "execute_result",
          "data": {
            "text/plain": [
              "array([[10479,     0],\n",
              "       [ 1002,     0]])"
            ]
          },
          "metadata": {},
          "execution_count": 25
        }
      ]
    },
    {
      "cell_type": "code",
      "source": [
        "visualizacao = ConfusionMatrixDisplay(matriz_confusao_ex,display_labels = ['Adimplente', 'Inadimplente'])\n",
        "visualizacao.plot()"
      ],
      "metadata": {
        "colab": {
          "base_uri": "https://localhost:8080/",
          "height": 466
        },
        "id": "xjTr0-blRhTu",
        "outputId": "e4d504c5-9132-4071-c241-94669ed234c3"
      },
      "execution_count": 27,
      "outputs": [
        {
          "output_type": "execute_result",
          "data": {
            "text/plain": [
              "<sklearn.metrics._plot.confusion_matrix.ConfusionMatrixDisplay at 0x7a1a8044a6d0>"
            ]
          },
          "metadata": {},
          "execution_count": 27
        },
        {
          "output_type": "display_data",
          "data": {
            "text/plain": [
              "<Figure size 640x480 with 2 Axes>"
            ],
            "image/png": "[encoded data removed]"
          },
          "metadata": {}
        }
      ]
    },
    {
      "cell_type": "markdown",
      "source": [
        "Com base nos resultados, conseguimos ver que os modelos de árvore de decisão não conseguem classificar nenhum cliente como inadimplente, mostrando uma terrível eficiência."
      ],
      "metadata": {
        "id": "h7ZkOdI8SBQv"
      }
    },
    {
      "cell_type": "markdown",
      "source": [
        "##Acurácia, Precisão e Recall"
      ],
      "metadata": {
        "id": "7X0L4glsQQ9Z"
      }
    },
    {
      "cell_type": "code",
      "source": [
        "from sklearn.metrics import accuracy_score"
      ],
      "metadata": {
        "id": "JpSsTmYlSV29"
      },
      "execution_count": 29,
      "outputs": []
    },
    {
      "cell_type": "code",
      "source": [
        "print(f'Acurácia: {accuracy_score(y_val, y_previsto)*100}%')"
      ],
      "metadata": {
        "colab": {
          "base_uri": "https://localhost:8080/"
        },
        "id": "jlMnLth6WHSJ",
        "outputId": "f4de9331-73e3-4271-a8c1-669d611c32fd"
      },
      "execution_count": 30,
      "outputs": [
        {
          "output_type": "stream",
          "name": "stdout",
          "text": [
            "Acurácia: 91.27253723543245%\n"
          ]
        }
      ]
    },
    {
      "cell_type": "code",
      "source": [
        "from sklearn.metrics import precision_score, recall_score\n"
      ],
      "metadata": {
        "id": "TS_eA-HeWNbB"
      },
      "execution_count": 31,
      "outputs": []
    },
    {
      "cell_type": "code",
      "source": [
        "print(f'Precisão: {precision_score(y_val, y_previsto)*100}%')\n",
        "print(f'Recall: {recall_score(y_val, y_previsto)*100}%')"
      ],
      "metadata": {
        "colab": {
          "base_uri": "https://localhost:8080/"
        },
        "id": "RmN7On_MWdWI",
        "outputId": "27daec7d-0ec5-41b7-af4c-b79bc2fc1aa4"
      },
      "execution_count": 32,
      "outputs": [
        {
          "output_type": "stream",
          "name": "stdout",
          "text": [
            "Precisão: 0.0%\n",
            "Recall: 0.0%\n"
          ]
        },
        {
          "output_type": "stream",
          "name": "stderr",
          "text": [
            "/usr/local/lib/python3.11/dist-packages/sklearn/metrics/_classification.py:1565: UndefinedMetricWarning: Precision is ill-defined and being set to 0.0 due to no predicted samples. Use `zero_division` parameter to control this behavior.\n",
            "  _warn_prf(average, modifier, f\"{metric.capitalize()} is\", len(result))\n"
          ]
        }
      ]
    },
    {
      "cell_type": "code",
      "source": [
        "from sklearn.metrics import f1_score"
      ],
      "metadata": {
        "id": "R_v4jWCBWqiK"
      },
      "execution_count": 33,
      "outputs": []
    },
    {
      "cell_type": "code",
      "source": [
        "print(f'F1-score: {f1_score(y_val, y_previsto)}')"
      ],
      "metadata": {
        "colab": {
          "base_uri": "https://localhost:8080/"
        },
        "id": "SRuJBoUHW4t4",
        "outputId": "b5f58424-3154-419d-f007-b452e030998c"
      },
      "execution_count": 34,
      "outputs": [
        {
          "output_type": "stream",
          "name": "stdout",
          "text": [
            "F1-score: 0.0\n"
          ]
        }
      ]
    },
    {
      "cell_type": "markdown",
      "source": [
        "Revocação (recall)\n",
        "Mede a proporção de dados positivos que foram corretamente identificados pelo modelo, ou seja, revela a capacidade do modelo em evitar a classificação incorreta de dados positivos como negativos. É usada quando o risco ou custo de classificar falsos negativos é alto. Por exemplo, em casos de diagnóstico de doenças graves, em que é fundamental detectar corretamente a presença da doença.\n",
        "\n",
        "Precisão\n",
        "Mede a proporção de dados classificados como positivos que são realmente positivos, ou seja, revela a capacidade do modelo em evitar a classificação incorreta de dados negativos como positivos. É usada quando o risco ou custo de classificar falsos positivos é alto, por exemplo em casos de seleção de ações no mercado financeiro, onde o importante é selecionar ações que tenham grande probabilidade de retorno, abaixando a quantidade de ações ruins (falsos positivos) mesmo que outras boas ações não tenham sido detectadas pelo modelo (falso negativo). A precisão também é importante no exemplo de detecção de doenças, onde queremos evitar que pacientes saudáveis sejam erroneamente classificados como doentes.\n",
        "\n",
        "F1-Score\n",
        "Fornece um equilíbrio entre o recall e a precisão, sendo útil quando as classes da variável alvo estão desbalanceadas, ou seja, quando há uma quantidade de dados muito diferente para cada classe. Além disso, é aplicável quando o risco ou custo de falsos positivos e de falsos negativos é alto simultaneamente. Em casos de detecção de tumores em pacientes, é preciso ter um equilíbrio entre evitar erros na detecção de tumores quando a pessoa realmente os possui e evitar erros ao informar que uma pessoa possui um tumor quando na realidade ela não possui.\n"
      ],
      "metadata": {
        "id": "jMLGaj04XVvR"
      }
    },
    {
      "cell_type": "markdown",
      "source": [
        "##Curva ROC"
      ],
      "metadata": {
        "id": "6QKMBYLYXt94"
      }
    },
    {
      "cell_type": "code",
      "source": [
        "from sklearn.metrics import RocCurveDisplay"
      ],
      "metadata": {
        "id": "5B_Lmc4XXrwp"
      },
      "execution_count": 35,
      "outputs": []
    },
    {
      "cell_type": "code",
      "source": [
        "RocCurveDisplay.from_predictions(y_val, y_previsto, name='Árvore de Decisão')"
      ],
      "metadata": {
        "colab": {
          "base_uri": "https://localhost:8080/",
          "height": 468
        },
        "id": "kbCVu3McY63s",
        "outputId": "a26e7195-03a9-4349-8caa-036b41f4096c"
      },
      "execution_count": 36,
      "outputs": [
        {
          "output_type": "execute_result",
          "data": {
            "text/plain": [
              "<sklearn.metrics._plot.roc_curve.RocCurveDisplay at 0x7a1a8048f7d0>"
            ]
          },
          "metadata": {},
          "execution_count": 36
        },
        {
          "output_type": "display_data",
          "data": {
            "text/plain": [
              "<Figure size 640x480 with 1 Axes>"
            ],
            "image/png": "[encoded data removed]"
          },
          "metadata": {}
        }
      ]
    },
    {
      "cell_type": "markdown",
      "source": [
        "Quanto mais próximo de 1 melhor, e mais próximo de 0.5 pior AUC(Area Under the curve)"
      ],
      "metadata": {
        "id": "YQ32ehApZS5S"
      }
    },
    {
      "cell_type": "code",
      "source": [
        "from sklearn.metrics import roc_auc_score"
      ],
      "metadata": {
        "id": "TYM2e10lZEfi"
      },
      "execution_count": 37,
      "outputs": []
    },
    {
      "cell_type": "code",
      "source": [
        "print(f'AUC: {roc_auc_score(y_val, y_previsto)}')"
      ],
      "metadata": {
        "colab": {
          "base_uri": "https://localhost:8080/"
        },
        "id": "QpUk1xdxZjzR",
        "outputId": "66e6a306-1582-46c1-e2c9-984ed6dd2a37"
      },
      "execution_count": 38,
      "outputs": [
        {
          "output_type": "stream",
          "name": "stdout",
          "text": [
            "AUC: 0.5\n"
          ]
        }
      ]
    },
    {
      "cell_type": "markdown",
      "source": [
        "##Curva de Precisão e Recall"
      ],
      "metadata": {
        "id": "IVANlraDbnz3"
      }
    },
    {
      "cell_type": "code",
      "source": [
        "from sklearn.metrics import PrecisionRecallDisplay"
      ],
      "metadata": {
        "id": "1PUrynQjbqS2"
      },
      "execution_count": 39,
      "outputs": []
    },
    {
      "cell_type": "code",
      "source": [
        "PrecisionRecallDisplay.from_predictions(y_val, y_previsto, name='Árvore de Decisão');"
      ],
      "metadata": {
        "colab": {
          "base_uri": "https://localhost:8080/",
          "height": 451
        },
        "id": "3BLtNwMtb15W",
        "outputId": "5f47960d-977b-4b63-e657-4f7c7dff923b"
      },
      "execution_count": 41,
      "outputs": [
        {
          "output_type": "display_data",
          "data": {
            "text/plain": [
              "<Figure size 640x480 with 1 Axes>"
            ],
            "image/png": "[encoded data removed]"
          },
          "metadata": {}
        }
      ]
    },
    {
      "cell_type": "markdown",
      "source": [
        "Quanto mais próximo de 0,0 pior. Quanto mais próximo de 1,1 melhor. AP = AVERAGE PRECISION\n",
        "A curva de precisão x recall é melhor para avaliar dados que tem classes mais desbalanceadas."
      ],
      "metadata": {
        "id": "YALcXTP6cIS2"
      }
    },
    {
      "cell_type": "code",
      "source": [
        "from sklearn.metrics import average_precision_score"
      ],
      "metadata": {
        "id": "rQ67bdzNb76G"
      },
      "execution_count": 42,
      "outputs": []
    },
    {
      "cell_type": "code",
      "source": [
        "print(f'AP: {average_precision_score(y_val, y_previsto)}')"
      ],
      "metadata": {
        "colab": {
          "base_uri": "https://localhost:8080/"
        },
        "id": "hCQPd8u6ccZO",
        "outputId": "eb082f76-f2f6-402e-f79d-b96d56952cfd"
      },
      "execution_count": 43,
      "outputs": [
        {
          "output_type": "stream",
          "name": "stdout",
          "text": [
            "AP: 0.08727462764567546\n"
          ]
        }
      ]
    },
    {
      "cell_type": "markdown",
      "source": [
        "##Relatório de Métricas\n"
      ],
      "metadata": {
        "id": "8-Q5MiDRc0Gt"
      }
    },
    {
      "cell_type": "code",
      "source": [
        "from sklearn.metrics import classification_report"
      ],
      "metadata": {
        "id": "URUSpw8tc2XF"
      },
      "execution_count": 44,
      "outputs": []
    },
    {
      "cell_type": "code",
      "source": [
        "print(classification_report(y_val, y_previsto))"
      ],
      "metadata": {
        "colab": {
          "base_uri": "https://localhost:8080/"
        },
        "id": "HWOWl8ZHc7BF",
        "outputId": "8b1e35ba-b753-4c7f-987f-babdb0cc3e59"
      },
      "execution_count": 45,
      "outputs": [
        {
          "output_type": "stream",
          "name": "stdout",
          "text": [
            "              precision    recall  f1-score   support\n",
            "\n",
            "           0       0.91      1.00      0.95     10479\n",
            "           1       0.00      0.00      0.00      1002\n",
            "\n",
            "    accuracy                           0.91     11481\n",
            "   macro avg       0.46      0.50      0.48     11481\n",
            "weighted avg       0.83      0.91      0.87     11481\n",
            "\n"
          ]
        }
      ]
    },
    {
      "cell_type": "markdown",
      "source": [
        "O fato de possuirmos muito mais clientes adimplentes(10479) fez com que o modelo entendesse muito mais esse lado do que a variável alvo que buscamos (clientes inadimplentes - 1002)."
      ],
      "metadata": {
        "id": "aMAOepG8fVy-"
      }
    },
    {
      "cell_type": "markdown",
      "source": [
        "##Usando o KFold"
      ],
      "metadata": {
        "id": "7VzGzhx5gJty"
      }
    },
    {
      "cell_type": "code",
      "source": [
        "#Estratégia de validação cruzada, quanto mais partes melhor, porém mais poder de processamento necessário\n",
        "from sklearn.model_selection import KFold, cross_validate\n"
      ],
      "metadata": {
        "id": "xJjUspWFc_N2"
      },
      "execution_count": 47,
      "outputs": []
    },
    {
      "cell_type": "code",
      "source": [
        "modelo = DecisionTreeClassifier(max_depth = 10)\n",
        "kf = KFold(n_splits=5, shuffle = True, random_state = 5)\n",
        "cv_resultados = cross_validate(modelo, x,y, cv = kf)\n",
        "cv_resultados"
      ],
      "metadata": {
        "colab": {
          "base_uri": "https://localhost:8080/"
        },
        "id": "8t44r4gugdcV",
        "outputId": "34cc4cd3-a7ee-4d2e-dce5-8594497cffce"
      },
      "execution_count": 49,
      "outputs": [
        {
          "output_type": "execute_result",
          "data": {
            "text/plain": [
              "{'fit_time': array([0.18849897, 0.20674634, 0.18590569, 0.18767595, 0.18821025]),\n",
              " 'score_time': array([0.00285339, 0.00398397, 0.00267863, 0.00256896, 0.00278831]),\n",
              " 'test_score': array([0.91355471, 0.90744774, 0.90788328, 0.91376307, 0.8997169 ])}"
            ]
          },
          "metadata": {},
          "execution_count": 49
        }
      ]
    },
    {
      "cell_type": "code",
      "source": [
        "cv_resultados['test_score']"
      ],
      "metadata": {
        "colab": {
          "base_uri": "https://localhost:8080/"
        },
        "id": "oT3CBg2mhFsv",
        "outputId": "087f88f2-e16e-4f7a-c09b-414fea247432"
      },
      "execution_count": 50,
      "outputs": [
        {
          "output_type": "execute_result",
          "data": {
            "text/plain": [
              "array([0.91355471, 0.90744774, 0.90788328, 0.91376307, 0.8997169 ])"
            ]
          },
          "metadata": {},
          "execution_count": 50
        }
      ]
    },
    {
      "cell_type": "code",
      "source": [
        "media = cv_resultados['test_score'].mean()"
      ],
      "metadata": {
        "id": "gGtFQlmXhXEu"
      },
      "execution_count": 51,
      "outputs": []
    },
    {
      "cell_type": "code",
      "source": [
        "desvio_padrao = cv_resultados['test_score'].std()"
      ],
      "metadata": {
        "id": "hzex31mfhbi-"
      },
      "execution_count": 52,
      "outputs": []
    },
    {
      "cell_type": "code",
      "source": [
        "print(f'Intervalo de confiança: [{media - 2*desvio_padrao}, {min(media + 2*desvio_padrao, 1)}]')"
      ],
      "metadata": {
        "colab": {
          "base_uri": "https://localhost:8080/"
        },
        "id": "bthytwDchgrm",
        "outputId": "efea805f-7034-42c6-f652-a3b06ba846f2"
      },
      "execution_count": 53,
      "outputs": [
        {
          "output_type": "stream",
          "name": "stdout",
          "text": [
            "Intervalo de confiança: [0.8982017469784419, 0.9187445267711764]\n"
          ]
        }
      ]
    },
    {
      "cell_type": "markdown",
      "source": [
        "##Validação cruzada com Recall"
      ],
      "metadata": {
        "id": "KiTarFXiiH5b"
      }
    },
    {
      "cell_type": "code",
      "source": [
        "def intervalo_conf(resultados):\n",
        "    media = resultados['test_score'].mean()\n",
        "    desvio_padrao = resultados['test_score'].std()\n",
        "    print(f'Intervalo de confiança: [{media - 2*desvio_padrao}, {min(media + 2*desvio_padrao, 1)}]')"
      ],
      "metadata": {
        "id": "rkqplN5-h7lX"
      },
      "execution_count": 78,
      "outputs": []
    },
    {
      "cell_type": "code",
      "source": [
        "modelo = DecisionTreeClassifier(max_depth = 10)\n",
        "kf = KFold(n_splits=5, shuffle = True, random_state = 5)\n",
        "cv_resultados = cross_validate(modelo, x,y, cv = kf, scoring = 'recall')\n",
        "cv_resultados"
      ],
      "metadata": {
        "colab": {
          "base_uri": "https://localhost:8080/"
        },
        "id": "4LQb95nSif7b",
        "outputId": "da7f414c-d3d0-4249-c3c7-414ddc2f6e9f"
      },
      "execution_count": 55,
      "outputs": [
        {
          "output_type": "execute_result",
          "data": {
            "text/plain": [
              "{'fit_time': array([0.19449139, 0.24157119, 0.24781895, 0.23394394, 0.24081707]),\n",
              " 'score_time': array([0.01661515, 0.006428  , 0.00576448, 0.00658703, 0.00726557]),\n",
              " 'test_score': array([0.02377807, 0.0210396 , 0.0196802 , 0.01827676, 0.02427746])}"
            ]
          },
          "metadata": {},
          "execution_count": 55
        }
      ]
    },
    {
      "cell_type": "code",
      "source": [
        "intervalo_conf(cv_resultados)"
      ],
      "metadata": {
        "colab": {
          "base_uri": "https://localhost:8080/"
        },
        "id": "5kTLs_sEip7q",
        "outputId": "b2c79799-cddb-4d9c-ab4b-aa0e47ee2aae"
      },
      "execution_count": 56,
      "outputs": [
        {
          "output_type": "stream",
          "name": "stdout",
          "text": [
            "Intervalo de confiança: [0.016782100282563404, 0.026038736175862873]\n"
          ]
        }
      ]
    },
    {
      "cell_type": "code",
      "source": [
        "modelo = DecisionTreeClassifier(max_depth = 10)\n",
        "kf = KFold(n_splits=5, shuffle = True, random_state = 5)\n",
        "cv_resultados = cross_validate(modelo, x, y, cv=kf, scoring = ['accuracy','recall', 'precision', 'f1'])\n",
        "cv_resultados"
      ],
      "metadata": {
        "colab": {
          "base_uri": "https://localhost:8080/"
        },
        "id": "7XbLDcEeivRB",
        "outputId": "3770de3f-5617-4abc-b8f7-87bdf721aaae"
      },
      "execution_count": 57,
      "outputs": [
        {
          "output_type": "execute_result",
          "data": {
            "text/plain": [
              "{'fit_time': array([0.24054813, 0.18434954, 0.18325138, 0.2613759 , 0.3354075 ]),\n",
              " 'score_time': array([0.00957584, 0.00895667, 0.00940108, 0.01308322, 0.01805663]),\n",
              " 'test_accuracy': array([0.9127926 , 0.90755662, 0.90810105, 0.9135453 , 0.89906359]),\n",
              " 'test_recall': array([0.02642008, 0.02227723, 0.0196802 , 0.0156658 , 0.02543353]),\n",
              " 'test_precision': array([0.23809524, 0.23376623, 0.25396825, 0.23076923, 0.20754717]),\n",
              " 'test_f1': array([0.04756243, 0.04067797, 0.03652968, 0.02933985, 0.04531411])}"
            ]
          },
          "metadata": {},
          "execution_count": 57
        }
      ]
    },
    {
      "cell_type": "code",
      "source": [
        "def relatorio_metricas(resultados):\n",
        "    for metrica in ['test_accuracy', 'test_recall', 'test_precision', 'test_f1']:\n",
        "        media = resultados[metrica].mean()\n",
        "        desvio_padrao = resultados[metrica].std()\n",
        "        print(f'Intervalo de confiança({metrica}): [{media-2*desvio_padrao}, {min(media+2*desvio_padrao, 1.0)}]')"
      ],
      "metadata": {
        "id": "VqEOSgoYjJoJ"
      },
      "execution_count": 59,
      "outputs": []
    },
    {
      "cell_type": "code",
      "source": [
        "relatorio_metricas(cv_resultados)"
      ],
      "metadata": {
        "colab": {
          "base_uri": "https://localhost:8080/"
        },
        "id": "a99HHdV5jQeJ",
        "outputId": "826953ab-6079-4810-9802-f65938b9ebcd"
      },
      "execution_count": 60,
      "outputs": [
        {
          "output_type": "stream",
          "name": "stdout",
          "text": [
            "Intervalo de confiança(test_accuracy): [0.8978750533949732, 0.9185486054640589]\n",
            "Intervalo de confiança(test_recall): [0.014054348080091613, 0.029736382376382896]\n",
            "Intervalo de confiança(test_precision): [0.20291075853174056, 0.26274769203237036]\n",
            "Intervalo de confiança(test_f1): [0.026876957746116627, 0.05289265610078079]\n"
          ]
        }
      ]
    },
    {
      "cell_type": "markdown",
      "source": [
        "##Estratificando os dados"
      ],
      "metadata": {
        "id": "UAct9kKcjaAw"
      }
    },
    {
      "cell_type": "code",
      "source": [
        "dados['inadimplente'].value_counts(normalize= True)"
      ],
      "metadata": {
        "colab": {
          "base_uri": "https://localhost:8080/",
          "height": 178
        },
        "id": "ItOqDbKmjc1B",
        "outputId": "12d69a8b-bd8c-41b1-87ac-38b70b663973"
      },
      "execution_count": 61,
      "outputs": [
        {
          "output_type": "execute_result",
          "data": {
            "text/plain": [
              "inadimplente\n",
              "0    0.912707\n",
              "1    0.087293\n",
              "Name: proportion, dtype: float64"
            ],
            "text/html": [
              "<div>\n",
              "<style scoped>\n",
              "    .dataframe tbody tr th:only-of-type {\n",
              "        vertical-align: middle;\n",
              "    }\n",
              "\n",
              "    .dataframe tbody tr th {\n",
              "        vertical-align: top;\n",
              "    }\n",
              "\n",
              "    .dataframe thead th {\n",
              "        text-align: right;\n",
              "    }\n",
              "</style>\n",
              "<table border=\"1\" class=\"dataframe\">\n",
              "  <thead>\n",
              "    <tr style=\"text-align: right;\">\n",
              "      <th></th>\n",
              "      <th>proportion</th>\n",
              "    </tr>\n",
              "    <tr>\n",
              "      <th>inadimplente</th>\n",
              "      <th></th>\n",
              "    </tr>\n",
              "  </thead>\n",
              "  <tbody>\n",
              "    <tr>\n",
              "      <th>0</th>\n",
              "      <td>0.912707</td>\n",
              "    </tr>\n",
              "    <tr>\n",
              "      <th>1</th>\n",
              "      <td>0.087293</td>\n",
              "    </tr>\n",
              "  </tbody>\n",
              "</table>\n",
              "</div><br><label><b>dtype:</b> float64</label>"
            ]
          },
          "metadata": {},
          "execution_count": 61
        }
      ]
    },
    {
      "cell_type": "code",
      "source": [
        "from sklearn.model_selection import StratifiedKFold"
      ],
      "metadata": {
        "id": "iInUK03TjijI"
      },
      "execution_count": 62,
      "outputs": []
    },
    {
      "cell_type": "code",
      "source": [
        "modelo = DecisionTreeClassifier(max_depth = 10)\n",
        "skf = StratifiedKFold(n_splits=5, shuffle = True, random_state = 5)\n",
        "cv_resultados = cross_validate(modelo, x,y, cv = skf, scoring = 'recall')\n",
        "cv_resultados"
      ],
      "metadata": {
        "colab": {
          "base_uri": "https://localhost:8080/"
        },
        "id": "3xQ5kufYjrBI",
        "outputId": "4caed6bf-a17a-48a3-8282-dcca261455d1"
      },
      "execution_count": 63,
      "outputs": [
        {
          "output_type": "execute_result",
          "data": {
            "text/plain": [
              "{'fit_time': array([0.26506591, 0.36088872, 0.28572702, 0.43892694, 0.24839473]),\n",
              " 'score_time': array([0.00643516, 0.00699759, 0.00589919, 0.00704241, 0.01407766]),\n",
              " 'test_score': array([0.03740648, 0.02746567, 0.0286783 , 0.02493766, 0.02618454])}"
            ]
          },
          "metadata": {},
          "execution_count": 63
        }
      ]
    },
    {
      "cell_type": "code",
      "source": [
        "intervalo_conf(cv_resultados)"
      ],
      "metadata": {
        "colab": {
          "base_uri": "https://localhost:8080/"
        },
        "id": "6bq05V-Mj64e",
        "outputId": "82e9af9a-4a8b-4e9f-8ece-60002a6dce61"
      },
      "execution_count": 64,
      "outputs": [
        {
          "output_type": "stream",
          "name": "stdout",
          "text": [
            "Intervalo de confiança: [0.020101199404477684, 0.037767860779021126]\n"
          ]
        }
      ]
    },
    {
      "cell_type": "code",
      "source": [
        "def intervalo_conf(resultados, nome_modelo):\n",
        "    media = resultados.mean()\n",
        "    desvio_padrao = resultados.std()\n",
        "    print(f'Intervalo de confiança ({nome_modelo}): [{media - 2*desvio_padrao}, {min(media + 2*desvio_padrao, 1)}]')"
      ],
      "metadata": {
        "id": "AeQNgmtnj_M2"
      },
      "execution_count": 65,
      "outputs": []
    },
    {
      "cell_type": "code",
      "source": [
        "from sklearn.model_selection import cross_val_score, KFold"
      ],
      "metadata": {
        "id": "TWQEjTY-kk1A"
      },
      "execution_count": 66,
      "outputs": []
    },
    {
      "cell_type": "code",
      "source": [
        "arvore = DecisionTreeClassifier(max_depth = 3)\n",
        "random_forest = RandomForestClassifier(max_depth = 2)\n",
        "\n",
        "kf = KFold(n_splits = 10, shuffle = True, random_state = 5)\n",
        "\n",
        "resultado_arvore = cross_val_score(arvore, x, y, cv = kf)\n",
        "resultado_rf = cross_val_score(random_forest, x, y, cv = kf)\n",
        "\n",
        "intervalo_conf(resultado_arvore, 'Decision Tree')\n",
        "intervalo_conf(resultado_rf, 'Random Forest')"
      ],
      "metadata": {
        "colab": {
          "base_uri": "https://localhost:8080/"
        },
        "id": "qxogpn_Xkm9X",
        "outputId": "9b2813e5-4f9a-45e6-a74a-418e05c246a4"
      },
      "execution_count": 67,
      "outputs": [
        {
          "output_type": "stream",
          "name": "stdout",
          "text": [
            "Intervalo de confiança (Decision Tree): [0.9025478639707798, 0.9228478108593472]\n",
            "Intervalo de confiança (Random Forest): [0.9025478639707798, 0.9228478108593472]\n"
          ]
        }
      ]
    },
    {
      "cell_type": "code",
      "source": [
        "from sklearn.model_selection import cross_val_score, StratifiedKFold"
      ],
      "metadata": {
        "id": "qw079RpVkpnX"
      },
      "execution_count": 68,
      "outputs": []
    },
    {
      "cell_type": "code",
      "source": [
        "arvore = DecisionTreeClassifier(max_depth = 3)\n",
        "random_forest = RandomForestClassifier(max_depth = 2)\n",
        "\n",
        "skf = StratifiedKFold(n_splits = 10, shuffle = True, random_state = 5)\n",
        "\n",
        "resultado_arvore = cross_val_score(arvore, x, y, cv = skf, scoring = 'f1')\n",
        "resultado_rf = cross_val_score(random_forest, x, y, cv = skf, scoring =  'f1')\n",
        "\n",
        "intervalo_conf(resultado_arvore, 'Decision Tree')\n",
        "intervalo_conf(resultado_rf, 'Random Forest')"
      ],
      "metadata": {
        "colab": {
          "base_uri": "https://localhost:8080/"
        },
        "id": "ENiYW3avktAI",
        "outputId": "61d1fbac-7a5b-478c-f761-9bdf7b0bd691"
      },
      "execution_count": 69,
      "outputs": [
        {
          "output_type": "stream",
          "name": "stdout",
          "text": [
            "Intervalo de confiança (Decision Tree): [0.0, 0.0]\n",
            "Intervalo de confiança (Random Forest): [0.0, 0.0]\n"
          ]
        }
      ]
    },
    {
      "cell_type": "code",
      "source": [
        "from sklearn.model_selection import cross_val_score, LeaveOneOut"
      ],
      "metadata": {
        "id": "2rxqO9sRkwNO"
      },
      "execution_count": 70,
      "outputs": []
    },
    {
      "cell_type": "code",
      "source": [
        "arvore = DecisionTreeClassifier(max_depth = 3)\n",
        "random_forest = RandomForestClassifier(max_depth = 2)\n",
        "\n",
        "loo = LeaveOneOut()\n",
        "\n",
        "resultado_arvore = cross_val_score(arvore, x, y, cv = loo)\n",
        "resultado_rf = cross_val_score(random_forest, x, y, cv = loo)\n",
        "\n",
        "print(f'Acurácia média (Decision Tree): {resultado_arvore.mean()}')\n",
        "print(f'Acurácia média (Random Forest):{resultado_rf.mean()}')"
      ],
      "metadata": {
        "colab": {
          "base_uri": "https://localhost:8080/",
          "height": 391
        },
        "id": "Ha_Xg-7lkyPd",
        "outputId": "db7982dd-92a6-4e28-ae57-09e176fb5fcc"
      },
      "execution_count": 71,
      "outputs": [
        {
          "output_type": "error",
          "ename": "KeyboardInterrupt",
          "evalue": "",
          "traceback": [
            "\u001b[0;31m---------------------------------------------------------------------------\u001b[0m",
            "\u001b[0;31mKeyboardInterrupt\u001b[0m                         Traceback (most recent call last)",
            "\u001b[0;32m<ipython-input-71-2601375087>\u001b[0m in \u001b[0;36m<cell line: 0>\u001b[0;34m()\u001b[0m\n\u001b[1;32m      4\u001b[0m \u001b[0mloo\u001b[0m \u001b[0;34m=\u001b[0m \u001b[0mLeaveOneOut\u001b[0m\u001b[0;34m(\u001b[0m\u001b[0;34m)\u001b[0m\u001b[0;34m\u001b[0m\u001b[0;34m\u001b[0m\u001b[0m\n\u001b[1;32m      5\u001b[0m \u001b[0;34m\u001b[0m\u001b[0m\n\u001b[0;32m----> 6\u001b[0;31m \u001b[0mresultado_arvore\u001b[0m \u001b[0;34m=\u001b[0m \u001b[0mcross_val_score\u001b[0m\u001b[0;34m(\u001b[0m\u001b[0marvore\u001b[0m\u001b[0;34m,\u001b[0m \u001b[0mx\u001b[0m\u001b[0;34m,\u001b[0m \u001b[0my\u001b[0m\u001b[0;34m,\u001b[0m \u001b[0mcv\u001b[0m \u001b[0;34m=\u001b[0m \u001b[0mloo\u001b[0m\u001b[0;34m)\u001b[0m\u001b[0;34m\u001b[0m\u001b[0;34m\u001b[0m\u001b[0m\n\u001b[0m\u001b[1;32m      7\u001b[0m \u001b[0mresultado_rf\u001b[0m \u001b[0;34m=\u001b[0m \u001b[0mcross_val_score\u001b[0m\u001b[0;34m(\u001b[0m\u001b[0mrandom_forest\u001b[0m\u001b[0;34m,\u001b[0m \u001b[0mx\u001b[0m\u001b[0;34m,\u001b[0m \u001b[0my\u001b[0m\u001b[0;34m,\u001b[0m \u001b[0mcv\u001b[0m \u001b[0;34m=\u001b[0m \u001b[0mloo\u001b[0m\u001b[0;34m)\u001b[0m\u001b[0;34m\u001b[0m\u001b[0;34m\u001b[0m\u001b[0m\n\u001b[1;32m      8\u001b[0m \u001b[0;34m\u001b[0m\u001b[0m\n",
            "\u001b[0;32m/usr/local/lib/python3.11/dist-packages/sklearn/utils/_param_validation.py\u001b[0m in \u001b[0;36mwrapper\u001b[0;34m(*args, **kwargs)\u001b[0m\n\u001b[1;32m    214\u001b[0m                     )\n\u001b[1;32m    215\u001b[0m                 ):\n\u001b[0;32m--> 216\u001b[0;31m                     \u001b[0;32mreturn\u001b[0m \u001b[0mfunc\u001b[0m\u001b[0;34m(\u001b[0m\u001b[0;34m*\u001b[0m\u001b[0margs\u001b[0m\u001b[0;34m,\u001b[0m \u001b[0;34m**\u001b[0m\u001b[0mkwargs\u001b[0m\u001b[0;34m)\u001b[0m\u001b[0;34m\u001b[0m\u001b[0;34m\u001b[0m\u001b[0m\n\u001b[0m\u001b[1;32m    217\u001b[0m             \u001b[0;32mexcept\u001b[0m \u001b[0mInvalidParameterError\u001b[0m \u001b[0;32mas\u001b[0m \u001b[0me\u001b[0m\u001b[0;34m:\u001b[0m\u001b[0;34m\u001b[0m\u001b[0;34m\u001b[0m\u001b[0m\n\u001b[1;32m    218\u001b[0m                 \u001b[0;31m# When the function is just a wrapper around an estimator, we allow\u001b[0m\u001b[0;34m\u001b[0m\u001b[0;34m\u001b[0m\u001b[0m\n",
            "\u001b[0;32m/usr/local/lib/python3.11/dist-packages/sklearn/model_selection/_validation.py\u001b[0m in \u001b[0;36mcross_val_score\u001b[0;34m(estimator, X, y, groups, scoring, cv, n_jobs, verbose, params, pre_dispatch, error_score)\u001b[0m\n\u001b[1;32m    682\u001b[0m     \u001b[0mscorer\u001b[0m \u001b[0;34m=\u001b[0m \u001b[0mcheck_scoring\u001b[0m\u001b[0;34m(\u001b[0m\u001b[0mestimator\u001b[0m\u001b[0;34m,\u001b[0m \u001b[0mscoring\u001b[0m\u001b[0;34m=\u001b[0m\u001b[0mscoring\u001b[0m\u001b[0;34m)\u001b[0m\u001b[0;34m\u001b[0m\u001b[0;34m\u001b[0m\u001b[0m\n\u001b[1;32m    683\u001b[0m \u001b[0;34m\u001b[0m\u001b[0m\n\u001b[0;32m--> 684\u001b[0;31m     cv_results = cross_validate(\n\u001b[0m\u001b[1;32m    685\u001b[0m         \u001b[0mestimator\u001b[0m\u001b[0;34m=\u001b[0m\u001b[0mestimator\u001b[0m\u001b[0;34m,\u001b[0m\u001b[0;34m\u001b[0m\u001b[0;34m\u001b[0m\u001b[0m\n\u001b[1;32m    686\u001b[0m         \u001b[0mX\u001b[0m\u001b[0;34m=\u001b[0m\u001b[0mX\u001b[0m\u001b[0;34m,\u001b[0m\u001b[0;34m\u001b[0m\u001b[0;34m\u001b[0m\u001b[0m\n",
            "\u001b[0;32m/usr/local/lib/python3.11/dist-packages/sklearn/utils/_param_validation.py\u001b[0m in \u001b[0;36mwrapper\u001b[0;34m(*args, **kwargs)\u001b[0m\n\u001b[1;32m    214\u001b[0m                     )\n\u001b[1;32m    215\u001b[0m                 ):\n\u001b[0;32m--> 216\u001b[0;31m                     \u001b[0;32mreturn\u001b[0m \u001b[0mfunc\u001b[0m\u001b[0;34m(\u001b[0m\u001b[0;34m*\u001b[0m\u001b[0margs\u001b[0m\u001b[0;34m,\u001b[0m \u001b[0;34m**\u001b[0m\u001b[0mkwargs\u001b[0m\u001b[0;34m)\u001b[0m\u001b[0;34m\u001b[0m\u001b[0;34m\u001b[0m\u001b[0m\n\u001b[0m\u001b[1;32m    217\u001b[0m             \u001b[0;32mexcept\u001b[0m \u001b[0mInvalidParameterError\u001b[0m \u001b[0;32mas\u001b[0m \u001b[0me\u001b[0m\u001b[0;34m:\u001b[0m\u001b[0;34m\u001b[0m\u001b[0;34m\u001b[0m\u001b[0m\n\u001b[1;32m    218\u001b[0m                 \u001b[0;31m# When the function is just a wrapper around an estimator, we allow\u001b[0m\u001b[0;34m\u001b[0m\u001b[0;34m\u001b[0m\u001b[0m\n",
            "\u001b[0;32m/usr/local/lib/python3.11/dist-packages/sklearn/model_selection/_validation.py\u001b[0m in \u001b[0;36mcross_validate\u001b[0;34m(estimator, X, y, groups, scoring, cv, n_jobs, verbose, params, pre_dispatch, return_train_score, return_estimator, return_indices, error_score)\u001b[0m\n\u001b[1;32m    409\u001b[0m     \u001b[0;31m# independent, and that it is pickle-able.\u001b[0m\u001b[0;34m\u001b[0m\u001b[0;34m\u001b[0m\u001b[0m\n\u001b[1;32m    410\u001b[0m     \u001b[0mparallel\u001b[0m \u001b[0;34m=\u001b[0m \u001b[0mParallel\u001b[0m\u001b[0;34m(\u001b[0m\u001b[0mn_jobs\u001b[0m\u001b[0;34m=\u001b[0m\u001b[0mn_jobs\u001b[0m\u001b[0;34m,\u001b[0m \u001b[0mverbose\u001b[0m\u001b[0;34m=\u001b[0m\u001b[0mverbose\u001b[0m\u001b[0;34m,\u001b[0m \u001b[0mpre_dispatch\u001b[0m\u001b[0;34m=\u001b[0m\u001b[0mpre_dispatch\u001b[0m\u001b[0;34m)\u001b[0m\u001b[0;34m\u001b[0m\u001b[0;34m\u001b[0m\u001b[0m\n\u001b[0;32m--> 411\u001b[0;31m     results = parallel(\n\u001b[0m\u001b[1;32m    412\u001b[0m         delayed(_fit_and_score)(\n\u001b[1;32m    413\u001b[0m             \u001b[0mclone\u001b[0m\u001b[0;34m(\u001b[0m\u001b[0mestimator\u001b[0m\u001b[0;34m)\u001b[0m\u001b[0;34m,\u001b[0m\u001b[0;34m\u001b[0m\u001b[0;34m\u001b[0m\u001b[0m\n",
            "\u001b[0;32m/usr/local/lib/python3.11/dist-packages/sklearn/utils/parallel.py\u001b[0m in \u001b[0;36m__call__\u001b[0;34m(self, iterable)\u001b[0m\n\u001b[1;32m     75\u001b[0m             \u001b[0;32mfor\u001b[0m \u001b[0mdelayed_func\u001b[0m\u001b[0;34m,\u001b[0m \u001b[0margs\u001b[0m\u001b[0;34m,\u001b[0m \u001b[0mkwargs\u001b[0m \u001b[0;32min\u001b[0m \u001b[0miterable\u001b[0m\u001b[0;34m\u001b[0m\u001b[0;34m\u001b[0m\u001b[0m\n\u001b[1;32m     76\u001b[0m         )\n\u001b[0;32m---> 77\u001b[0;31m         \u001b[0;32mreturn\u001b[0m \u001b[0msuper\u001b[0m\u001b[0;34m(\u001b[0m\u001b[0;34m)\u001b[0m\u001b[0;34m.\u001b[0m\u001b[0m__call__\u001b[0m\u001b[0;34m(\u001b[0m\u001b[0miterable_with_config\u001b[0m\u001b[0;34m)\u001b[0m\u001b[0;34m\u001b[0m\u001b[0;34m\u001b[0m\u001b[0m\n\u001b[0m\u001b[1;32m     78\u001b[0m \u001b[0;34m\u001b[0m\u001b[0m\n\u001b[1;32m     79\u001b[0m \u001b[0;34m\u001b[0m\u001b[0m\n",
            "\u001b[0;32m/usr/local/lib/python3.11/dist-packages/joblib/parallel.py\u001b[0m in \u001b[0;36m__call__\u001b[0;34m(self, iterable)\u001b[0m\n\u001b[1;32m   1984\u001b[0m             \u001b[0moutput\u001b[0m \u001b[0;34m=\u001b[0m \u001b[0mself\u001b[0m\u001b[0;34m.\u001b[0m\u001b[0m_get_sequential_output\u001b[0m\u001b[0;34m(\u001b[0m\u001b[0miterable\u001b[0m\u001b[0;34m)\u001b[0m\u001b[0;34m\u001b[0m\u001b[0;34m\u001b[0m\u001b[0m\n\u001b[1;32m   1985\u001b[0m             \u001b[0mnext\u001b[0m\u001b[0;34m(\u001b[0m\u001b[0moutput\u001b[0m\u001b[0;34m)\u001b[0m\u001b[0;34m\u001b[0m\u001b[0;34m\u001b[0m\u001b[0m\n\u001b[0;32m-> 1986\u001b[0;31m             \u001b[0;32mreturn\u001b[0m \u001b[0moutput\u001b[0m \u001b[0;32mif\u001b[0m \u001b[0mself\u001b[0m\u001b[0;34m.\u001b[0m\u001b[0mreturn_generator\u001b[0m \u001b[0;32melse\u001b[0m \u001b[0mlist\u001b[0m\u001b[0;34m(\u001b[0m\u001b[0moutput\u001b[0m\u001b[0;34m)\u001b[0m\u001b[0;34m\u001b[0m\u001b[0;34m\u001b[0m\u001b[0m\n\u001b[0m\u001b[1;32m   1987\u001b[0m \u001b[0;34m\u001b[0m\u001b[0m\n\u001b[1;32m   1988\u001b[0m         \u001b[0;31m# Let's create an ID that uniquely identifies the current call. If the\u001b[0m\u001b[0;34m\u001b[0m\u001b[0;34m\u001b[0m\u001b[0m\n",
            "\u001b[0;32m/usr/local/lib/python3.11/dist-packages/joblib/parallel.py\u001b[0m in \u001b[0;36m_get_sequential_output\u001b[0;34m(self, iterable)\u001b[0m\n\u001b[1;32m   1912\u001b[0m                 \u001b[0mself\u001b[0m\u001b[0;34m.\u001b[0m\u001b[0mn_dispatched_batches\u001b[0m \u001b[0;34m+=\u001b[0m \u001b[0;36m1\u001b[0m\u001b[0;34m\u001b[0m\u001b[0;34m\u001b[0m\u001b[0m\n\u001b[1;32m   1913\u001b[0m                 \u001b[0mself\u001b[0m\u001b[0;34m.\u001b[0m\u001b[0mn_dispatched_tasks\u001b[0m \u001b[0;34m+=\u001b[0m \u001b[0;36m1\u001b[0m\u001b[0;34m\u001b[0m\u001b[0;34m\u001b[0m\u001b[0m\n\u001b[0;32m-> 1914\u001b[0;31m                 \u001b[0mres\u001b[0m \u001b[0;34m=\u001b[0m \u001b[0mfunc\u001b[0m\u001b[0;34m(\u001b[0m\u001b[0;34m*\u001b[0m\u001b[0margs\u001b[0m\u001b[0;34m,\u001b[0m \u001b[0;34m**\u001b[0m\u001b[0mkwargs\u001b[0m\u001b[0;34m)\u001b[0m\u001b[0;34m\u001b[0m\u001b[0;34m\u001b[0m\u001b[0m\n\u001b[0m\u001b[1;32m   1915\u001b[0m                 \u001b[0mself\u001b[0m\u001b[0;34m.\u001b[0m\u001b[0mn_completed_tasks\u001b[0m \u001b[0;34m+=\u001b[0m \u001b[0;36m1\u001b[0m\u001b[0;34m\u001b[0m\u001b[0;34m\u001b[0m\u001b[0m\n\u001b[1;32m   1916\u001b[0m                 \u001b[0mself\u001b[0m\u001b[0;34m.\u001b[0m\u001b[0mprint_progress\u001b[0m\u001b[0;34m(\u001b[0m\u001b[0;34m)\u001b[0m\u001b[0;34m\u001b[0m\u001b[0;34m\u001b[0m\u001b[0m\n",
            "\u001b[0;32m/usr/local/lib/python3.11/dist-packages/sklearn/utils/parallel.py\u001b[0m in \u001b[0;36m__call__\u001b[0;34m(self, *args, **kwargs)\u001b[0m\n\u001b[1;32m    137\u001b[0m             \u001b[0mconfig\u001b[0m \u001b[0;34m=\u001b[0m \u001b[0;34m{\u001b[0m\u001b[0;34m}\u001b[0m\u001b[0;34m\u001b[0m\u001b[0;34m\u001b[0m\u001b[0m\n\u001b[1;32m    138\u001b[0m         \u001b[0;32mwith\u001b[0m \u001b[0mconfig_context\u001b[0m\u001b[0;34m(\u001b[0m\u001b[0;34m**\u001b[0m\u001b[0mconfig\u001b[0m\u001b[0;34m)\u001b[0m\u001b[0;34m:\u001b[0m\u001b[0;34m\u001b[0m\u001b[0;34m\u001b[0m\u001b[0m\n\u001b[0;32m--> 139\u001b[0;31m             \u001b[0;32mreturn\u001b[0m \u001b[0mself\u001b[0m\u001b[0;34m.\u001b[0m\u001b[0mfunction\u001b[0m\u001b[0;34m(\u001b[0m\u001b[0;34m*\u001b[0m\u001b[0margs\u001b[0m\u001b[0;34m,\u001b[0m \u001b[0;34m**\u001b[0m\u001b[0mkwargs\u001b[0m\u001b[0;34m)\u001b[0m\u001b[0;34m\u001b[0m\u001b[0;34m\u001b[0m\u001b[0m\n\u001b[0m\u001b[1;32m    140\u001b[0m \u001b[0;34m\u001b[0m\u001b[0m\n\u001b[1;32m    141\u001b[0m \u001b[0;34m\u001b[0m\u001b[0m\n",
            "\u001b[0;32m/usr/local/lib/python3.11/dist-packages/sklearn/model_selection/_validation.py\u001b[0m in \u001b[0;36m_fit_and_score\u001b[0;34m(estimator, X, y, scorer, train, test, verbose, parameters, fit_params, score_params, return_train_score, return_parameters, return_n_test_samples, return_times, return_estimator, split_progress, candidate_progress, error_score)\u001b[0m\n\u001b[1;32m    864\u001b[0m             \u001b[0mestimator\u001b[0m\u001b[0;34m.\u001b[0m\u001b[0mfit\u001b[0m\u001b[0;34m(\u001b[0m\u001b[0mX_train\u001b[0m\u001b[0;34m,\u001b[0m \u001b[0;34m**\u001b[0m\u001b[0mfit_params\u001b[0m\u001b[0;34m)\u001b[0m\u001b[0;34m\u001b[0m\u001b[0;34m\u001b[0m\u001b[0m\n\u001b[1;32m    865\u001b[0m         \u001b[0;32melse\u001b[0m\u001b[0;34m:\u001b[0m\u001b[0;34m\u001b[0m\u001b[0;34m\u001b[0m\u001b[0m\n\u001b[0;32m--> 866\u001b[0;31m             \u001b[0mestimator\u001b[0m\u001b[0;34m.\u001b[0m\u001b[0mfit\u001b[0m\u001b[0;34m(\u001b[0m\u001b[0mX_train\u001b[0m\u001b[0;34m,\u001b[0m \u001b[0my_train\u001b[0m\u001b[0;34m,\u001b[0m \u001b[0;34m**\u001b[0m\u001b[0mfit_params\u001b[0m\u001b[0;34m)\u001b[0m\u001b[0;34m\u001b[0m\u001b[0;34m\u001b[0m\u001b[0m\n\u001b[0m\u001b[1;32m    867\u001b[0m \u001b[0;34m\u001b[0m\u001b[0m\n\u001b[1;32m    868\u001b[0m     \u001b[0;32mexcept\u001b[0m \u001b[0mException\u001b[0m\u001b[0;34m:\u001b[0m\u001b[0;34m\u001b[0m\u001b[0;34m\u001b[0m\u001b[0m\n",
            "\u001b[0;32m/usr/local/lib/python3.11/dist-packages/sklearn/base.py\u001b[0m in \u001b[0;36mwrapper\u001b[0;34m(estimator, *args, **kwargs)\u001b[0m\n\u001b[1;32m   1387\u001b[0m                 )\n\u001b[1;32m   1388\u001b[0m             ):\n\u001b[0;32m-> 1389\u001b[0;31m                 \u001b[0;32mreturn\u001b[0m \u001b[0mfit_method\u001b[0m\u001b[0;34m(\u001b[0m\u001b[0mestimator\u001b[0m\u001b[0;34m,\u001b[0m \u001b[0;34m*\u001b[0m\u001b[0margs\u001b[0m\u001b[0;34m,\u001b[0m \u001b[0;34m**\u001b[0m\u001b[0mkwargs\u001b[0m\u001b[0;34m)\u001b[0m\u001b[0;34m\u001b[0m\u001b[0;34m\u001b[0m\u001b[0m\n\u001b[0m\u001b[1;32m   1390\u001b[0m \u001b[0;34m\u001b[0m\u001b[0m\n\u001b[1;32m   1391\u001b[0m         \u001b[0;32mreturn\u001b[0m \u001b[0mwrapper\u001b[0m\u001b[0;34m\u001b[0m\u001b[0;34m\u001b[0m\u001b[0m\n",
            "\u001b[0;32m/usr/local/lib/python3.11/dist-packages/sklearn/tree/_classes.py\u001b[0m in \u001b[0;36mfit\u001b[0;34m(self, X, y, sample_weight, check_input)\u001b[0m\n\u001b[1;32m   1022\u001b[0m         \"\"\"\n\u001b[1;32m   1023\u001b[0m \u001b[0;34m\u001b[0m\u001b[0m\n\u001b[0;32m-> 1024\u001b[0;31m         super()._fit(\n\u001b[0m\u001b[1;32m   1025\u001b[0m             \u001b[0mX\u001b[0m\u001b[0;34m,\u001b[0m\u001b[0;34m\u001b[0m\u001b[0;34m\u001b[0m\u001b[0m\n\u001b[1;32m   1026\u001b[0m             \u001b[0my\u001b[0m\u001b[0;34m,\u001b[0m\u001b[0;34m\u001b[0m\u001b[0;34m\u001b[0m\u001b[0m\n",
            "\u001b[0;32m/usr/local/lib/python3.11/dist-packages/sklearn/tree/_classes.py\u001b[0m in \u001b[0;36m_fit\u001b[0;34m(self, X, y, sample_weight, check_input, missing_values_in_feature_mask)\u001b[0m\n\u001b[1;32m    470\u001b[0m             )\n\u001b[1;32m    471\u001b[0m \u001b[0;34m\u001b[0m\u001b[0m\n\u001b[0;32m--> 472\u001b[0;31m         \u001b[0mbuilder\u001b[0m\u001b[0;34m.\u001b[0m\u001b[0mbuild\u001b[0m\u001b[0;34m(\u001b[0m\u001b[0mself\u001b[0m\u001b[0;34m.\u001b[0m\u001b[0mtree_\u001b[0m\u001b[0;34m,\u001b[0m \u001b[0mX\u001b[0m\u001b[0;34m,\u001b[0m \u001b[0my\u001b[0m\u001b[0;34m,\u001b[0m \u001b[0msample_weight\u001b[0m\u001b[0;34m,\u001b[0m \u001b[0mmissing_values_in_feature_mask\u001b[0m\u001b[0;34m)\u001b[0m\u001b[0;34m\u001b[0m\u001b[0;34m\u001b[0m\u001b[0m\n\u001b[0m\u001b[1;32m    473\u001b[0m \u001b[0;34m\u001b[0m\u001b[0m\n\u001b[1;32m    474\u001b[0m         \u001b[0;32mif\u001b[0m \u001b[0mself\u001b[0m\u001b[0;34m.\u001b[0m\u001b[0mn_outputs_\u001b[0m \u001b[0;34m==\u001b[0m \u001b[0;36m1\u001b[0m \u001b[0;32mand\u001b[0m \u001b[0mis_classifier\u001b[0m\u001b[0;34m(\u001b[0m\u001b[0mself\u001b[0m\u001b[0;34m)\u001b[0m\u001b[0;34m:\u001b[0m\u001b[0;34m\u001b[0m\u001b[0;34m\u001b[0m\u001b[0m\n",
            "\u001b[0;31mKeyboardInterrupt\u001b[0m: "
          ]
        }
      ]
    },
    {
      "cell_type": "markdown",
      "source": [
        "##Oversampling"
      ],
      "metadata": {
        "id": "dBJ0KyCAk89n"
      }
    },
    {
      "cell_type": "code",
      "source": [
        "from imblearn.over_sampling import SMOTE"
      ],
      "metadata": {
        "id": "kOHItNSMlBfU"
      },
      "execution_count": 72,
      "outputs": []
    },
    {
      "cell_type": "code",
      "source": [
        "oversample = SMOTE()\n",
        "x_balanceado , y_balanceado = oversample.fit_resample(x,y)"
      ],
      "metadata": {
        "id": "ptwx6MYElTBb"
      },
      "execution_count": 73,
      "outputs": []
    },
    {
      "cell_type": "code",
      "source": [
        "y_balanceado.value_counts(normalize=True)"
      ],
      "metadata": {
        "colab": {
          "base_uri": "https://localhost:8080/",
          "height": 178
        },
        "id": "y732f51aldTC",
        "outputId": "61789758-dfe2-42b5-8fd3-f82c13d01a6c"
      },
      "execution_count": 74,
      "outputs": [
        {
          "output_type": "execute_result",
          "data": {
            "text/plain": [
              "inadimplente\n",
              "0    0.5\n",
              "1    0.5\n",
              "Name: proportion, dtype: float64"
            ],
            "text/html": [
              "<div>\n",
              "<style scoped>\n",
              "    .dataframe tbody tr th:only-of-type {\n",
              "        vertical-align: middle;\n",
              "    }\n",
              "\n",
              "    .dataframe tbody tr th {\n",
              "        vertical-align: top;\n",
              "    }\n",
              "\n",
              "    .dataframe thead th {\n",
              "        text-align: right;\n",
              "    }\n",
              "</style>\n",
              "<table border=\"1\" class=\"dataframe\">\n",
              "  <thead>\n",
              "    <tr style=\"text-align: right;\">\n",
              "      <th></th>\n",
              "      <th>proportion</th>\n",
              "    </tr>\n",
              "    <tr>\n",
              "      <th>inadimplente</th>\n",
              "      <th></th>\n",
              "    </tr>\n",
              "  </thead>\n",
              "  <tbody>\n",
              "    <tr>\n",
              "      <th>0</th>\n",
              "      <td>0.5</td>\n",
              "    </tr>\n",
              "    <tr>\n",
              "      <th>1</th>\n",
              "      <td>0.5</td>\n",
              "    </tr>\n",
              "  </tbody>\n",
              "</table>\n",
              "</div><br><label><b>dtype:</b> float64</label>"
            ]
          },
          "metadata": {},
          "execution_count": 74
        }
      ]
    },
    {
      "cell_type": "code",
      "source": [
        "modelo = DecisionTreeClassifier(max_depth = 10)\n",
        "skf = StratifiedKFold(n_splits=5, shuffle = True, random_state = 5)\n",
        "cv_resultados = cross_validate(modelo, x_balanceado,y_balanceado, cv = skf, scoring = 'recall')\n",
        "cv_resultados"
      ],
      "metadata": {
        "colab": {
          "base_uri": "https://localhost:8080/"
        },
        "id": "C7hwx77YlmP0",
        "outputId": "1eb9da84-18ff-4cb3-8d75-5d1f433129cf"
      },
      "execution_count": 75,
      "outputs": [
        {
          "output_type": "execute_result",
          "data": {
            "text/plain": [
              "{'fit_time': array([0.39771295, 0.42524171, 0.40097952, 0.39574313, 0.39740777]),\n",
              " 'score_time': array([0.0073216 , 0.00539255, 0.00543475, 0.00608778, 0.00544524]),\n",
              " 'test_score': array([0.73252207, 0.72488666, 0.74412501, 0.73863772, 0.70913863])}"
            ]
          },
          "metadata": {},
          "execution_count": 75
        }
      ]
    },
    {
      "cell_type": "code",
      "source": [
        "intervalo_conf(cv_resultados)"
      ],
      "metadata": {
        "colab": {
          "base_uri": "https://localhost:8080/"
        },
        "id": "PAsqdDSSl6Kp",
        "outputId": "6e0512fa-dabd-4651-c914-fa838276f58f"
      },
      "execution_count": 79,
      "outputs": [
        {
          "output_type": "stream",
          "name": "stdout",
          "text": [
            "Intervalo de confiança: [0.7055024652039893, 0.7542215737970078]\n"
          ]
        }
      ]
    },
    {
      "cell_type": "markdown",
      "source": [
        "Balanceamos os dados , mas isso não segue os dados do mundo real, mesmo melhorando o resultado do modelo"
      ],
      "metadata": {
        "id": "_entuUnemPRT"
      }
    },
    {
      "cell_type": "markdown",
      "source": [
        "A estratégia de oversampling consiste em aumentar a quantidade de dados da classe que possui menor frequência até que tenha a mesma quantidade da classe de maior frequência. Dessa maneira, o modelo se atentará mais para o padrão dos dados da classe que tinha menor frequência a princípio e poderá diferenciar melhor as duas classes.\n",
        "\n",
        "Para aumentar a quantidade de dados precisamos gerar novos registros na base de dados. É possível utilizar um oversampling aleatório para duplicar registros de maneira randômica ou usar uma técnica como o SMOTE para gerar dados sintéticos com um padrão próximo dos dados existentes. A desvantagem dessa estratégia é a possibilidade de overfitting do modelo, principalmente ao ser utilizado o oversampling aleatório. Nesse caso, o modelo pode se especializar demais no padrão dos dados que são muito parecidos ou idênticos, já que são copiados ou gerados sinteticamente.\n",
        "\n",
        "\n",
        "A estratégia de undersampling é contrária ao oversampling, e consiste em reduzir a quantidade de dados da classe que possui maior frequência até que tenha a mesma quantidade da classe de menor frequência. Dessa forma, o modelo não dará atenção somente aos dados de maior quantidade e poderá diferenciar melhor as duas classes.\n",
        "\n",
        "Para reduzir a quantidade de dados, precisamos remover ou deletar registros existentes. É possível utilizar um undersampling aleatório para selecionar os registros que serão mantidos ou usar técnicas que selecionam ou removem dados a partir de um padrão estabelecido. A principal desvantagem da estratégia de undersampling é a de remover dados que podem ser muito importantes para o entendimento do problema, principalmente quando essa remoção é feita sem nenhum critério, como é o caso do undersampling aleatório.\n",
        "\n",
        "Ambas as estratégias são válidas para a tentativa de melhorar o desempenho de um modelo de classificação, mas devemos ficar atentos ao utilizá-las devido aos pontos negativos que são inerentes a cada um dos métodos. Em qualquer projeto que seja utilizado alguma dessas ferramentas, deve ser feita uma análise para identificar se de fato elas ajudaram ou atrapalharam o desempenho do modelo de classificação.\n",
        "\n",
        "\n"
      ],
      "metadata": {
        "id": "ZDcULo1HmgYy"
      }
    },
    {
      "cell_type": "markdown",
      "source": [
        "##Pipeline para validação"
      ],
      "metadata": {
        "id": "P_WLCY5emuUK"
      }
    },
    {
      "cell_type": "code",
      "source": [
        "from imblearn.pipeline import Pipeline as imbpipeline"
      ],
      "metadata": {
        "id": "DBMF3-REl8xF"
      },
      "execution_count": 80,
      "outputs": []
    },
    {
      "cell_type": "code",
      "source": [
        "modelo = DecisionTreeClassifier(max_depth = 10)\n",
        "pipeline = imbpipeline([('oversample', SMOTE()), ('arvore', modelo)])"
      ],
      "metadata": {
        "id": "wG6LmaSGnCEv"
      },
      "execution_count": 82,
      "outputs": []
    },
    {
      "cell_type": "code",
      "source": [
        "skf = StratifiedKFold(n_splits=5, shuffle = True, random_state = 5)\n",
        "cv_resultados = cross_validate(pipeline, x, y, cv=skf, scoring = 'recall')"
      ],
      "metadata": {
        "id": "2Ao5DWcInd1J"
      },
      "execution_count": 83,
      "outputs": []
    },
    {
      "cell_type": "code",
      "source": [
        "intervalo_conf(cv_resultados)"
      ],
      "metadata": {
        "colab": {
          "base_uri": "https://localhost:8080/"
        },
        "id": "yDU6iP03n-pt",
        "outputId": "02419381-57ec-44b1-d7b0-ee8de25084e4"
      },
      "execution_count": 84,
      "outputs": [
        {
          "output_type": "stream",
          "name": "stdout",
          "text": [
            "Intervalo de confiança: [0.21733827945733125, 0.310979502865887]\n"
          ]
        }
      ]
    },
    {
      "cell_type": "markdown",
      "source": [
        "o recall está melhorando nos dados reais"
      ],
      "metadata": {
        "id": "LZeA5KO-oCCD"
      }
    },
    {
      "cell_type": "markdown",
      "source": [
        "##Undersampling"
      ],
      "metadata": {
        "id": "p4ylnuDPp72P"
      }
    },
    {
      "cell_type": "code",
      "source": [
        "from imblearn.under_sampling import NearMiss"
      ],
      "metadata": {
        "id": "o320Ohr3oBJk"
      },
      "execution_count": 85,
      "outputs": []
    },
    {
      "cell_type": "code",
      "source": [
        "modelo = DecisionTreeClassifier(max_depth = 10)\n",
        "pipeline = imbpipeline([('undersample', NearMiss(version=3)), ('arvore', modelo)])\n",
        "skf = StratifiedKFold(n_splits=5, shuffle = True, random_state = 5)\n",
        "cv_resultados = cross_validate(pipeline, x, y, cv=skf, scoring = 'recall')"
      ],
      "metadata": {
        "id": "d4eBWbn7qKFD"
      },
      "execution_count": 87,
      "outputs": []
    },
    {
      "cell_type": "code",
      "source": [
        "intervalo_conf(cv_resultados)"
      ],
      "metadata": {
        "colab": {
          "base_uri": "https://localhost:8080/"
        },
        "id": "SDRbvjMcqSDj",
        "outputId": "063eca1b-55bd-489e-8923-94ab82d580c3"
      },
      "execution_count": 89,
      "outputs": [
        {
          "output_type": "stream",
          "name": "stdout",
          "text": [
            "Intervalo de confiança: [0.6225280536228474, 0.6949921284438337]\n"
          ]
        }
      ]
    },
    {
      "cell_type": "markdown",
      "source": [
        "Melhor resultado"
      ],
      "metadata": {
        "id": "6jCRssKJqfeT"
      }
    },
    {
      "cell_type": "markdown",
      "source": [
        "##Testando o Modelo"
      ],
      "metadata": {
        "id": "ex2Jw7rmqt3q"
      }
    },
    {
      "cell_type": "code",
      "source": [
        "undersample = NearMiss(version=3)\n",
        "x_balanceado, y_balanceado = undersample.fit_resample(x, y)"
      ],
      "metadata": {
        "id": "IZ6SeavOqdV_"
      },
      "execution_count": 90,
      "outputs": []
    },
    {
      "cell_type": "code",
      "source": [
        "modelo = DecisionTreeClassifier(max_depth = 10)\n",
        "modelo.fit(x_balanceado, y_balanceado)\n",
        "y_previsto = modelo.predict(x_teste)"
      ],
      "metadata": {
        "id": "leV6aTJEq1GC"
      },
      "execution_count": 91,
      "outputs": []
    },
    {
      "cell_type": "code",
      "source": [
        "print(classification_report(y_teste, y_previsto))"
      ],
      "metadata": {
        "colab": {
          "base_uri": "https://localhost:8080/"
        },
        "id": "2ZBohqgErm-q",
        "outputId": "a962f4ee-d3e7-4215-aaaf-faa6bb949df2"
      },
      "execution_count": 92,
      "outputs": [
        {
          "output_type": "stream",
          "name": "stdout",
          "text": [
            "              precision    recall  f1-score   support\n",
            "\n",
            "           0       0.94      0.48      0.64      7397\n",
            "           1       0.11      0.70      0.20       707\n",
            "\n",
            "    accuracy                           0.50      8104\n",
            "   macro avg       0.53      0.59      0.42      8104\n",
            "weighted avg       0.87      0.50      0.60      8104\n",
            "\n"
          ]
        }
      ]
    },
    {
      "cell_type": "code",
      "source": [
        "ConfusionMatrixDisplay.from_predictions(y_teste, y_previsto);"
      ],
      "metadata": {
        "colab": {
          "base_uri": "https://localhost:8080/",
          "height": 449
        },
        "id": "sr6rSmcUroxJ",
        "outputId": "d89c7d38-0116-4c13-e7f2-487d4a9a33de"
      },
      "execution_count": 93,
      "outputs": [
        {
          "output_type": "display_data",
          "data": {
            "text/plain": [
              "<Figure size 640x480 with 2 Axes>"
            ],
            "image/png": "[encoded data removed]"
          },
          "metadata": {}
        }
      ]
    },
    {
      "cell_type": "markdown",
      "source": [
        "##Combinação das duas técnicas"
      ],
      "metadata": {
        "id": "4sjlHsXisLfO"
      }
    },
    {
      "cell_type": "code",
      "source": [
        "from imblearn.combine import SMOTEENN"
      ],
      "metadata": {
        "id": "Wd_06l2wsPFg"
      },
      "execution_count": 94,
      "outputs": []
    },
    {
      "cell_type": "code",
      "source": [
        "modelo = DecisionTreeClassifier(max_depth = 10)\n",
        "pipeline = imbpipeline([('smoteenn', SMOTEENN()), ('arvore', modelo)])"
      ],
      "metadata": {
        "id": "zLfofUrZsQLo"
      },
      "execution_count": 95,
      "outputs": []
    },
    {
      "cell_type": "code",
      "source": [
        "skf = StratifiedKFold(n_splits=5, shuffle = True, random_state = 5)\n",
        "cv_resultados = cross_validate(pipeline, x, y, cv=skf, scoring = 'recall')\n",
        "intervalo_conf(cv_resultados)"
      ],
      "metadata": {
        "colab": {
          "base_uri": "https://localhost:8080/"
        },
        "id": "3W8Q8sKesRrW",
        "outputId": "e7bec8cc-ad4d-436a-eef0-c7b6788823f5"
      },
      "execution_count": 96,
      "outputs": [
        {
          "output_type": "stream",
          "name": "stdout",
          "text": [
            "Intervalo de confiança: [0.28037110367511753, 0.4704771190888216]\n"
          ]
        }
      ]
    },
    {
      "cell_type": "markdown",
      "source": [
        "Foi menos eficiente nesse caso , mas pode ser melhor em outros"
      ],
      "metadata": {
        "id": "4nYHm5xZsdhl"
      }
    }
  ]
}